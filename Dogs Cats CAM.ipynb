{
 "cells": [
  {
   "cell_type": "markdown",
   "metadata": {},
   "source": [
    "## Dogs v Cats"
   ]
  },
  {
   "cell_type": "code",
   "execution_count": 1,
   "metadata": {},
   "outputs": [],
   "source": [
    "%reload_ext autoreload\n",
    "%autoreload 2\n",
    "%matplotlib inline\n",
    "\n",
    "from fastai.imports import *\n",
    "\n",
    "from fastai.transforms import *\n",
    "from fastai.conv_learner import *\n",
    "from fastai.model import *\n",
    "from fastai.dataset import *\n",
    "from fastai.sgdr import *\n",
    "import skimage"
   ]
  },
  {
   "cell_type": "code",
   "execution_count": 2,
   "metadata": {},
   "outputs": [
    {
     "data": {
      "text/plain": [
       "['models', 'sample', 'test1', 'tmp', 'train', 'valid']"
      ]
     },
     "execution_count": 2,
     "metadata": {},
     "output_type": "execute_result"
    }
   ],
   "source": [
    "PATH = \"/src/data/dogscats/dogscats\"\n",
    "sz = 224\n",
    "arch = resnet34\n",
    "bs = 64\n",
    "\n",
    "import os\n",
    "os.listdir(PATH)"
   ]
  },
  {
   "cell_type": "code",
   "execution_count": 3,
   "metadata": {},
   "outputs": [],
   "source": [
    "m = arch(True)"
   ]
  },
  {
   "cell_type": "code",
   "execution_count": 4,
   "metadata": {},
   "outputs": [
    {
     "data": {
      "text/plain": [
       "ResNet(\n",
       "  (conv1): Conv2d(3, 64, kernel_size=(7, 7), stride=(2, 2), padding=(3, 3), bias=False)\n",
       "  (bn1): BatchNorm2d(64, eps=1e-05, momentum=0.1, affine=True, track_running_stats=True)\n",
       "  (relu): ReLU(inplace)\n",
       "  (maxpool): MaxPool2d(kernel_size=3, stride=2, padding=1, dilation=1, ceil_mode=False)\n",
       "  (layer1): Sequential(\n",
       "    (0): BasicBlock(\n",
       "      (conv1): Conv2d(64, 64, kernel_size=(3, 3), stride=(1, 1), padding=(1, 1), bias=False)\n",
       "      (bn1): BatchNorm2d(64, eps=1e-05, momentum=0.1, affine=True, track_running_stats=True)\n",
       "      (relu): ReLU(inplace)\n",
       "      (conv2): Conv2d(64, 64, kernel_size=(3, 3), stride=(1, 1), padding=(1, 1), bias=False)\n",
       "      (bn2): BatchNorm2d(64, eps=1e-05, momentum=0.1, affine=True, track_running_stats=True)\n",
       "    )\n",
       "    (1): BasicBlock(\n",
       "      (conv1): Conv2d(64, 64, kernel_size=(3, 3), stride=(1, 1), padding=(1, 1), bias=False)\n",
       "      (bn1): BatchNorm2d(64, eps=1e-05, momentum=0.1, affine=True, track_running_stats=True)\n",
       "      (relu): ReLU(inplace)\n",
       "      (conv2): Conv2d(64, 64, kernel_size=(3, 3), stride=(1, 1), padding=(1, 1), bias=False)\n",
       "      (bn2): BatchNorm2d(64, eps=1e-05, momentum=0.1, affine=True, track_running_stats=True)\n",
       "    )\n",
       "    (2): BasicBlock(\n",
       "      (conv1): Conv2d(64, 64, kernel_size=(3, 3), stride=(1, 1), padding=(1, 1), bias=False)\n",
       "      (bn1): BatchNorm2d(64, eps=1e-05, momentum=0.1, affine=True, track_running_stats=True)\n",
       "      (relu): ReLU(inplace)\n",
       "      (conv2): Conv2d(64, 64, kernel_size=(3, 3), stride=(1, 1), padding=(1, 1), bias=False)\n",
       "      (bn2): BatchNorm2d(64, eps=1e-05, momentum=0.1, affine=True, track_running_stats=True)\n",
       "    )\n",
       "  )\n",
       "  (layer2): Sequential(\n",
       "    (0): BasicBlock(\n",
       "      (conv1): Conv2d(64, 128, kernel_size=(3, 3), stride=(2, 2), padding=(1, 1), bias=False)\n",
       "      (bn1): BatchNorm2d(128, eps=1e-05, momentum=0.1, affine=True, track_running_stats=True)\n",
       "      (relu): ReLU(inplace)\n",
       "      (conv2): Conv2d(128, 128, kernel_size=(3, 3), stride=(1, 1), padding=(1, 1), bias=False)\n",
       "      (bn2): BatchNorm2d(128, eps=1e-05, momentum=0.1, affine=True, track_running_stats=True)\n",
       "      (downsample): Sequential(\n",
       "        (0): Conv2d(64, 128, kernel_size=(1, 1), stride=(2, 2), bias=False)\n",
       "        (1): BatchNorm2d(128, eps=1e-05, momentum=0.1, affine=True, track_running_stats=True)\n",
       "      )\n",
       "    )\n",
       "    (1): BasicBlock(\n",
       "      (conv1): Conv2d(128, 128, kernel_size=(3, 3), stride=(1, 1), padding=(1, 1), bias=False)\n",
       "      (bn1): BatchNorm2d(128, eps=1e-05, momentum=0.1, affine=True, track_running_stats=True)\n",
       "      (relu): ReLU(inplace)\n",
       "      (conv2): Conv2d(128, 128, kernel_size=(3, 3), stride=(1, 1), padding=(1, 1), bias=False)\n",
       "      (bn2): BatchNorm2d(128, eps=1e-05, momentum=0.1, affine=True, track_running_stats=True)\n",
       "    )\n",
       "    (2): BasicBlock(\n",
       "      (conv1): Conv2d(128, 128, kernel_size=(3, 3), stride=(1, 1), padding=(1, 1), bias=False)\n",
       "      (bn1): BatchNorm2d(128, eps=1e-05, momentum=0.1, affine=True, track_running_stats=True)\n",
       "      (relu): ReLU(inplace)\n",
       "      (conv2): Conv2d(128, 128, kernel_size=(3, 3), stride=(1, 1), padding=(1, 1), bias=False)\n",
       "      (bn2): BatchNorm2d(128, eps=1e-05, momentum=0.1, affine=True, track_running_stats=True)\n",
       "    )\n",
       "    (3): BasicBlock(\n",
       "      (conv1): Conv2d(128, 128, kernel_size=(3, 3), stride=(1, 1), padding=(1, 1), bias=False)\n",
       "      (bn1): BatchNorm2d(128, eps=1e-05, momentum=0.1, affine=True, track_running_stats=True)\n",
       "      (relu): ReLU(inplace)\n",
       "      (conv2): Conv2d(128, 128, kernel_size=(3, 3), stride=(1, 1), padding=(1, 1), bias=False)\n",
       "      (bn2): BatchNorm2d(128, eps=1e-05, momentum=0.1, affine=True, track_running_stats=True)\n",
       "    )\n",
       "  )\n",
       "  (layer3): Sequential(\n",
       "    (0): BasicBlock(\n",
       "      (conv1): Conv2d(128, 256, kernel_size=(3, 3), stride=(2, 2), padding=(1, 1), bias=False)\n",
       "      (bn1): BatchNorm2d(256, eps=1e-05, momentum=0.1, affine=True, track_running_stats=True)\n",
       "      (relu): ReLU(inplace)\n",
       "      (conv2): Conv2d(256, 256, kernel_size=(3, 3), stride=(1, 1), padding=(1, 1), bias=False)\n",
       "      (bn2): BatchNorm2d(256, eps=1e-05, momentum=0.1, affine=True, track_running_stats=True)\n",
       "      (downsample): Sequential(\n",
       "        (0): Conv2d(128, 256, kernel_size=(1, 1), stride=(2, 2), bias=False)\n",
       "        (1): BatchNorm2d(256, eps=1e-05, momentum=0.1, affine=True, track_running_stats=True)\n",
       "      )\n",
       "    )\n",
       "    (1): BasicBlock(\n",
       "      (conv1): Conv2d(256, 256, kernel_size=(3, 3), stride=(1, 1), padding=(1, 1), bias=False)\n",
       "      (bn1): BatchNorm2d(256, eps=1e-05, momentum=0.1, affine=True, track_running_stats=True)\n",
       "      (relu): ReLU(inplace)\n",
       "      (conv2): Conv2d(256, 256, kernel_size=(3, 3), stride=(1, 1), padding=(1, 1), bias=False)\n",
       "      (bn2): BatchNorm2d(256, eps=1e-05, momentum=0.1, affine=True, track_running_stats=True)\n",
       "    )\n",
       "    (2): BasicBlock(\n",
       "      (conv1): Conv2d(256, 256, kernel_size=(3, 3), stride=(1, 1), padding=(1, 1), bias=False)\n",
       "      (bn1): BatchNorm2d(256, eps=1e-05, momentum=0.1, affine=True, track_running_stats=True)\n",
       "      (relu): ReLU(inplace)\n",
       "      (conv2): Conv2d(256, 256, kernel_size=(3, 3), stride=(1, 1), padding=(1, 1), bias=False)\n",
       "      (bn2): BatchNorm2d(256, eps=1e-05, momentum=0.1, affine=True, track_running_stats=True)\n",
       "    )\n",
       "    (3): BasicBlock(\n",
       "      (conv1): Conv2d(256, 256, kernel_size=(3, 3), stride=(1, 1), padding=(1, 1), bias=False)\n",
       "      (bn1): BatchNorm2d(256, eps=1e-05, momentum=0.1, affine=True, track_running_stats=True)\n",
       "      (relu): ReLU(inplace)\n",
       "      (conv2): Conv2d(256, 256, kernel_size=(3, 3), stride=(1, 1), padding=(1, 1), bias=False)\n",
       "      (bn2): BatchNorm2d(256, eps=1e-05, momentum=0.1, affine=True, track_running_stats=True)\n",
       "    )\n",
       "    (4): BasicBlock(\n",
       "      (conv1): Conv2d(256, 256, kernel_size=(3, 3), stride=(1, 1), padding=(1, 1), bias=False)\n",
       "      (bn1): BatchNorm2d(256, eps=1e-05, momentum=0.1, affine=True, track_running_stats=True)\n",
       "      (relu): ReLU(inplace)\n",
       "      (conv2): Conv2d(256, 256, kernel_size=(3, 3), stride=(1, 1), padding=(1, 1), bias=False)\n",
       "      (bn2): BatchNorm2d(256, eps=1e-05, momentum=0.1, affine=True, track_running_stats=True)\n",
       "    )\n",
       "    (5): BasicBlock(\n",
       "      (conv1): Conv2d(256, 256, kernel_size=(3, 3), stride=(1, 1), padding=(1, 1), bias=False)\n",
       "      (bn1): BatchNorm2d(256, eps=1e-05, momentum=0.1, affine=True, track_running_stats=True)\n",
       "      (relu): ReLU(inplace)\n",
       "      (conv2): Conv2d(256, 256, kernel_size=(3, 3), stride=(1, 1), padding=(1, 1), bias=False)\n",
       "      (bn2): BatchNorm2d(256, eps=1e-05, momentum=0.1, affine=True, track_running_stats=True)\n",
       "    )\n",
       "  )\n",
       "  (layer4): Sequential(\n",
       "    (0): BasicBlock(\n",
       "      (conv1): Conv2d(256, 512, kernel_size=(3, 3), stride=(2, 2), padding=(1, 1), bias=False)\n",
       "      (bn1): BatchNorm2d(512, eps=1e-05, momentum=0.1, affine=True, track_running_stats=True)\n",
       "      (relu): ReLU(inplace)\n",
       "      (conv2): Conv2d(512, 512, kernel_size=(3, 3), stride=(1, 1), padding=(1, 1), bias=False)\n",
       "      (bn2): BatchNorm2d(512, eps=1e-05, momentum=0.1, affine=True, track_running_stats=True)\n",
       "      (downsample): Sequential(\n",
       "        (0): Conv2d(256, 512, kernel_size=(1, 1), stride=(2, 2), bias=False)\n",
       "        (1): BatchNorm2d(512, eps=1e-05, momentum=0.1, affine=True, track_running_stats=True)\n",
       "      )\n",
       "    )\n",
       "    (1): BasicBlock(\n",
       "      (conv1): Conv2d(512, 512, kernel_size=(3, 3), stride=(1, 1), padding=(1, 1), bias=False)\n",
       "      (bn1): BatchNorm2d(512, eps=1e-05, momentum=0.1, affine=True, track_running_stats=True)\n",
       "      (relu): ReLU(inplace)\n",
       "      (conv2): Conv2d(512, 512, kernel_size=(3, 3), stride=(1, 1), padding=(1, 1), bias=False)\n",
       "      (bn2): BatchNorm2d(512, eps=1e-05, momentum=0.1, affine=True, track_running_stats=True)\n",
       "    )\n",
       "    (2): BasicBlock(\n",
       "      (conv1): Conv2d(512, 512, kernel_size=(3, 3), stride=(1, 1), padding=(1, 1), bias=False)\n",
       "      (bn1): BatchNorm2d(512, eps=1e-05, momentum=0.1, affine=True, track_running_stats=True)\n",
       "      (relu): ReLU(inplace)\n",
       "      (conv2): Conv2d(512, 512, kernel_size=(3, 3), stride=(1, 1), padding=(1, 1), bias=False)\n",
       "      (bn2): BatchNorm2d(512, eps=1e-05, momentum=0.1, affine=True, track_running_stats=True)\n",
       "    )\n",
       "  )\n",
       "  (avgpool): AvgPool2d(kernel_size=7, stride=1, padding=0)\n",
       "  (fc): Linear(in_features=512, out_features=1000, bias=True)\n",
       ")"
      ]
     },
     "execution_count": 4,
     "metadata": {},
     "output_type": "execute_result"
    }
   ],
   "source": [
    "m"
   ]
  },
  {
   "cell_type": "code",
   "execution_count": 5,
   "metadata": {},
   "outputs": [],
   "source": [
    "m = nn.Sequential(*children(m)[:-2], \n",
    "                  nn.Conv2d(512, 2, 3, padding=1), \n",
    "                  nn.AdaptiveAvgPool2d(1), Flatten(), \n",
    "                  nn.LogSoftmax())"
   ]
  },
  {
   "cell_type": "code",
   "execution_count": 255,
   "metadata": {},
   "outputs": [],
   "source": [
    "?tfms_from_stats"
   ]
  },
  {
   "cell_type": "code",
   "execution_count": 6,
   "metadata": {},
   "outputs": [],
   "source": [
    "tfms = tfms_from_model(arch, sz, aug_tfms=transforms_side_on, max_zoom=1.1)\n",
    "data = ImageClassifierData.from_paths(PATH, tfms=tfms, bs=bs)"
   ]
  },
  {
   "cell_type": "code",
   "execution_count": 7,
   "metadata": {},
   "outputs": [],
   "source": [
    "learn = ConvLearner.from_model_data(m, data)"
   ]
  },
  {
   "cell_type": "code",
   "execution_count": 8,
   "metadata": {},
   "outputs": [],
   "source": [
    "learn.freeze_to(-4)"
   ]
  },
  {
   "cell_type": "code",
   "execution_count": 9,
   "metadata": {},
   "outputs": [
    {
     "data": {
      "text/plain": [
       "True"
      ]
     },
     "execution_count": 9,
     "metadata": {},
     "output_type": "execute_result"
    }
   ],
   "source": [
    "m[-1].trainable"
   ]
  },
  {
   "cell_type": "code",
   "execution_count": 10,
   "metadata": {},
   "outputs": [
    {
     "data": {
      "text/plain": [
       "True"
      ]
     },
     "execution_count": 10,
     "metadata": {},
     "output_type": "execute_result"
    }
   ],
   "source": [
    "m[-4].trainable"
   ]
  },
  {
   "cell_type": "code",
   "execution_count": 11,
   "metadata": {},
   "outputs": [
    {
     "data": {
      "text/plain": [
       "False"
      ]
     },
     "execution_count": 11,
     "metadata": {},
     "output_type": "execute_result"
    }
   ],
   "source": [
    "m[-5].trainable"
   ]
  },
  {
   "cell_type": "code",
   "execution_count": 12,
   "metadata": {},
   "outputs": [
    {
     "data": {
      "application/vnd.jupyter.widget-view+json": {
       "model_id": "6b329e9f3d7f4aa89b4cecb70926cade",
       "version_major": 2,
       "version_minor": 0
      },
      "text/plain": [
       "HBox(children=(IntProgress(value=0, description='Epoch', max=1), HTML(value='')))"
      ]
     },
     "metadata": {},
     "output_type": "display_data"
    },
    {
     "name": "stdout",
     "output_type": "stream",
     "text": [
      "epoch      trn_loss   val_loss   accuracy                    \n",
      "    0      0.207178   0.131749   0.9885    \n",
      "\n"
     ]
    },
    {
     "data": {
      "text/plain": [
       "[0.13174933325871827, 0.9885]"
      ]
     },
     "execution_count": 12,
     "metadata": {},
     "output_type": "execute_result"
    }
   ],
   "source": [
    "learn.fit(0.01, 1)"
   ]
  },
  {
   "cell_type": "code",
   "execution_count": 13,
   "metadata": {},
   "outputs": [
    {
     "data": {
      "application/vnd.jupyter.widget-view+json": {
       "model_id": "80f17e35851c44158f6550ed71aa5a3b",
       "version_major": 2,
       "version_minor": 0
      },
      "text/plain": [
       "HBox(children=(IntProgress(value=0, description='Epoch', max=1), HTML(value='')))"
      ]
     },
     "metadata": {},
     "output_type": "display_data"
    },
    {
     "name": "stdout",
     "output_type": "stream",
     "text": [
      "epoch      trn_loss   val_loss   accuracy                     \n",
      "    0      0.097715   0.106804   0.99      \n",
      "\n"
     ]
    },
    {
     "data": {
      "text/plain": [
       "[0.10680362809449434, 0.99]"
      ]
     },
     "execution_count": 13,
     "metadata": {},
     "output_type": "execute_result"
    }
   ],
   "source": [
    "learn.fit(0.01, 1, cycle_len=1)"
   ]
  },
  {
   "cell_type": "code",
   "execution_count": 14,
   "metadata": {},
   "outputs": [
    {
     "data": {
      "text/plain": [
       "Sequential(\n",
       "  (0): Conv2d(3, 64, kernel_size=(7, 7), stride=(2, 2), padding=(3, 3), bias=False)\n",
       "  (1): BatchNorm2d(64, eps=1e-05, momentum=0.1, affine=True, track_running_stats=True)\n",
       "  (2): ReLU(inplace)\n",
       "  (3): MaxPool2d(kernel_size=3, stride=2, padding=1, dilation=1, ceil_mode=False)\n",
       "  (4): Sequential(\n",
       "    (0): BasicBlock(\n",
       "      (conv1): Conv2d(64, 64, kernel_size=(3, 3), stride=(1, 1), padding=(1, 1), bias=False)\n",
       "      (bn1): BatchNorm2d(64, eps=1e-05, momentum=0.1, affine=True, track_running_stats=True)\n",
       "      (relu): ReLU(inplace)\n",
       "      (conv2): Conv2d(64, 64, kernel_size=(3, 3), stride=(1, 1), padding=(1, 1), bias=False)\n",
       "      (bn2): BatchNorm2d(64, eps=1e-05, momentum=0.1, affine=True, track_running_stats=True)\n",
       "    )\n",
       "    (1): BasicBlock(\n",
       "      (conv1): Conv2d(64, 64, kernel_size=(3, 3), stride=(1, 1), padding=(1, 1), bias=False)\n",
       "      (bn1): BatchNorm2d(64, eps=1e-05, momentum=0.1, affine=True, track_running_stats=True)\n",
       "      (relu): ReLU(inplace)\n",
       "      (conv2): Conv2d(64, 64, kernel_size=(3, 3), stride=(1, 1), padding=(1, 1), bias=False)\n",
       "      (bn2): BatchNorm2d(64, eps=1e-05, momentum=0.1, affine=True, track_running_stats=True)\n",
       "    )\n",
       "    (2): BasicBlock(\n",
       "      (conv1): Conv2d(64, 64, kernel_size=(3, 3), stride=(1, 1), padding=(1, 1), bias=False)\n",
       "      (bn1): BatchNorm2d(64, eps=1e-05, momentum=0.1, affine=True, track_running_stats=True)\n",
       "      (relu): ReLU(inplace)\n",
       "      (conv2): Conv2d(64, 64, kernel_size=(3, 3), stride=(1, 1), padding=(1, 1), bias=False)\n",
       "      (bn2): BatchNorm2d(64, eps=1e-05, momentum=0.1, affine=True, track_running_stats=True)\n",
       "    )\n",
       "  )\n",
       "  (5): Sequential(\n",
       "    (0): BasicBlock(\n",
       "      (conv1): Conv2d(64, 128, kernel_size=(3, 3), stride=(2, 2), padding=(1, 1), bias=False)\n",
       "      (bn1): BatchNorm2d(128, eps=1e-05, momentum=0.1, affine=True, track_running_stats=True)\n",
       "      (relu): ReLU(inplace)\n",
       "      (conv2): Conv2d(128, 128, kernel_size=(3, 3), stride=(1, 1), padding=(1, 1), bias=False)\n",
       "      (bn2): BatchNorm2d(128, eps=1e-05, momentum=0.1, affine=True, track_running_stats=True)\n",
       "      (downsample): Sequential(\n",
       "        (0): Conv2d(64, 128, kernel_size=(1, 1), stride=(2, 2), bias=False)\n",
       "        (1): BatchNorm2d(128, eps=1e-05, momentum=0.1, affine=True, track_running_stats=True)\n",
       "      )\n",
       "    )\n",
       "    (1): BasicBlock(\n",
       "      (conv1): Conv2d(128, 128, kernel_size=(3, 3), stride=(1, 1), padding=(1, 1), bias=False)\n",
       "      (bn1): BatchNorm2d(128, eps=1e-05, momentum=0.1, affine=True, track_running_stats=True)\n",
       "      (relu): ReLU(inplace)\n",
       "      (conv2): Conv2d(128, 128, kernel_size=(3, 3), stride=(1, 1), padding=(1, 1), bias=False)\n",
       "      (bn2): BatchNorm2d(128, eps=1e-05, momentum=0.1, affine=True, track_running_stats=True)\n",
       "    )\n",
       "    (2): BasicBlock(\n",
       "      (conv1): Conv2d(128, 128, kernel_size=(3, 3), stride=(1, 1), padding=(1, 1), bias=False)\n",
       "      (bn1): BatchNorm2d(128, eps=1e-05, momentum=0.1, affine=True, track_running_stats=True)\n",
       "      (relu): ReLU(inplace)\n",
       "      (conv2): Conv2d(128, 128, kernel_size=(3, 3), stride=(1, 1), padding=(1, 1), bias=False)\n",
       "      (bn2): BatchNorm2d(128, eps=1e-05, momentum=0.1, affine=True, track_running_stats=True)\n",
       "    )\n",
       "    (3): BasicBlock(\n",
       "      (conv1): Conv2d(128, 128, kernel_size=(3, 3), stride=(1, 1), padding=(1, 1), bias=False)\n",
       "      (bn1): BatchNorm2d(128, eps=1e-05, momentum=0.1, affine=True, track_running_stats=True)\n",
       "      (relu): ReLU(inplace)\n",
       "      (conv2): Conv2d(128, 128, kernel_size=(3, 3), stride=(1, 1), padding=(1, 1), bias=False)\n",
       "      (bn2): BatchNorm2d(128, eps=1e-05, momentum=0.1, affine=True, track_running_stats=True)\n",
       "    )\n",
       "  )\n",
       "  (6): Sequential(\n",
       "    (0): BasicBlock(\n",
       "      (conv1): Conv2d(128, 256, kernel_size=(3, 3), stride=(2, 2), padding=(1, 1), bias=False)\n",
       "      (bn1): BatchNorm2d(256, eps=1e-05, momentum=0.1, affine=True, track_running_stats=True)\n",
       "      (relu): ReLU(inplace)\n",
       "      (conv2): Conv2d(256, 256, kernel_size=(3, 3), stride=(1, 1), padding=(1, 1), bias=False)\n",
       "      (bn2): BatchNorm2d(256, eps=1e-05, momentum=0.1, affine=True, track_running_stats=True)\n",
       "      (downsample): Sequential(\n",
       "        (0): Conv2d(128, 256, kernel_size=(1, 1), stride=(2, 2), bias=False)\n",
       "        (1): BatchNorm2d(256, eps=1e-05, momentum=0.1, affine=True, track_running_stats=True)\n",
       "      )\n",
       "    )\n",
       "    (1): BasicBlock(\n",
       "      (conv1): Conv2d(256, 256, kernel_size=(3, 3), stride=(1, 1), padding=(1, 1), bias=False)\n",
       "      (bn1): BatchNorm2d(256, eps=1e-05, momentum=0.1, affine=True, track_running_stats=True)\n",
       "      (relu): ReLU(inplace)\n",
       "      (conv2): Conv2d(256, 256, kernel_size=(3, 3), stride=(1, 1), padding=(1, 1), bias=False)\n",
       "      (bn2): BatchNorm2d(256, eps=1e-05, momentum=0.1, affine=True, track_running_stats=True)\n",
       "    )\n",
       "    (2): BasicBlock(\n",
       "      (conv1): Conv2d(256, 256, kernel_size=(3, 3), stride=(1, 1), padding=(1, 1), bias=False)\n",
       "      (bn1): BatchNorm2d(256, eps=1e-05, momentum=0.1, affine=True, track_running_stats=True)\n",
       "      (relu): ReLU(inplace)\n",
       "      (conv2): Conv2d(256, 256, kernel_size=(3, 3), stride=(1, 1), padding=(1, 1), bias=False)\n",
       "      (bn2): BatchNorm2d(256, eps=1e-05, momentum=0.1, affine=True, track_running_stats=True)\n",
       "    )\n",
       "    (3): BasicBlock(\n",
       "      (conv1): Conv2d(256, 256, kernel_size=(3, 3), stride=(1, 1), padding=(1, 1), bias=False)\n",
       "      (bn1): BatchNorm2d(256, eps=1e-05, momentum=0.1, affine=True, track_running_stats=True)\n",
       "      (relu): ReLU(inplace)\n",
       "      (conv2): Conv2d(256, 256, kernel_size=(3, 3), stride=(1, 1), padding=(1, 1), bias=False)\n",
       "      (bn2): BatchNorm2d(256, eps=1e-05, momentum=0.1, affine=True, track_running_stats=True)\n",
       "    )\n",
       "    (4): BasicBlock(\n",
       "      (conv1): Conv2d(256, 256, kernel_size=(3, 3), stride=(1, 1), padding=(1, 1), bias=False)\n",
       "      (bn1): BatchNorm2d(256, eps=1e-05, momentum=0.1, affine=True, track_running_stats=True)\n",
       "      (relu): ReLU(inplace)\n",
       "      (conv2): Conv2d(256, 256, kernel_size=(3, 3), stride=(1, 1), padding=(1, 1), bias=False)\n",
       "      (bn2): BatchNorm2d(256, eps=1e-05, momentum=0.1, affine=True, track_running_stats=True)\n",
       "    )\n",
       "    (5): BasicBlock(\n",
       "      (conv1): Conv2d(256, 256, kernel_size=(3, 3), stride=(1, 1), padding=(1, 1), bias=False)\n",
       "      (bn1): BatchNorm2d(256, eps=1e-05, momentum=0.1, affine=True, track_running_stats=True)\n",
       "      (relu): ReLU(inplace)\n",
       "      (conv2): Conv2d(256, 256, kernel_size=(3, 3), stride=(1, 1), padding=(1, 1), bias=False)\n",
       "      (bn2): BatchNorm2d(256, eps=1e-05, momentum=0.1, affine=True, track_running_stats=True)\n",
       "    )\n",
       "  )\n",
       "  (7): Sequential(\n",
       "    (0): BasicBlock(\n",
       "      (conv1): Conv2d(256, 512, kernel_size=(3, 3), stride=(2, 2), padding=(1, 1), bias=False)\n",
       "      (bn1): BatchNorm2d(512, eps=1e-05, momentum=0.1, affine=True, track_running_stats=True)\n",
       "      (relu): ReLU(inplace)\n",
       "      (conv2): Conv2d(512, 512, kernel_size=(3, 3), stride=(1, 1), padding=(1, 1), bias=False)\n",
       "      (bn2): BatchNorm2d(512, eps=1e-05, momentum=0.1, affine=True, track_running_stats=True)\n",
       "      (downsample): Sequential(\n",
       "        (0): Conv2d(256, 512, kernel_size=(1, 1), stride=(2, 2), bias=False)\n",
       "        (1): BatchNorm2d(512, eps=1e-05, momentum=0.1, affine=True, track_running_stats=True)\n",
       "      )\n",
       "    )\n",
       "    (1): BasicBlock(\n",
       "      (conv1): Conv2d(512, 512, kernel_size=(3, 3), stride=(1, 1), padding=(1, 1), bias=False)\n",
       "      (bn1): BatchNorm2d(512, eps=1e-05, momentum=0.1, affine=True, track_running_stats=True)\n",
       "      (relu): ReLU(inplace)\n",
       "      (conv2): Conv2d(512, 512, kernel_size=(3, 3), stride=(1, 1), padding=(1, 1), bias=False)\n",
       "      (bn2): BatchNorm2d(512, eps=1e-05, momentum=0.1, affine=True, track_running_stats=True)\n",
       "    )\n",
       "    (2): BasicBlock(\n",
       "      (conv1): Conv2d(512, 512, kernel_size=(3, 3), stride=(1, 1), padding=(1, 1), bias=False)\n",
       "      (bn1): BatchNorm2d(512, eps=1e-05, momentum=0.1, affine=True, track_running_stats=True)\n",
       "      (relu): ReLU(inplace)\n",
       "      (conv2): Conv2d(512, 512, kernel_size=(3, 3), stride=(1, 1), padding=(1, 1), bias=False)\n",
       "      (bn2): BatchNorm2d(512, eps=1e-05, momentum=0.1, affine=True, track_running_stats=True)\n",
       "    )\n",
       "  )\n",
       "  (8): Conv2d(512, 2, kernel_size=(3, 3), stride=(1, 1), padding=(1, 1))\n",
       "  (9): AdaptiveAvgPool2d(output_size=1)\n",
       "  (10): Flatten()\n",
       "  (11): LogSoftmax()\n",
       ")"
      ]
     },
     "execution_count": 14,
     "metadata": {},
     "output_type": "execute_result"
    }
   ],
   "source": [
    "learn"
   ]
  },
  {
   "cell_type": "raw",
   "metadata": {},
   "source": []
  },
  {
   "cell_type": "code",
   "execution_count": null,
   "metadata": {},
   "outputs": [],
   "source": []
  },
  {
   "cell_type": "markdown",
   "metadata": {},
   "source": [
    "## Class Activation Maps (CAM)"
   ]
  },
  {
   "cell_type": "code",
   "execution_count": 15,
   "metadata": {},
   "outputs": [],
   "source": [
    "class SaveFeatures():\n",
    "    '''\n",
    "    Custom Save Features Class - duh\n",
    "    '''\n",
    "    features=None\n",
    "    def __init__(self, m): self.hook = m.register_forward_hook(self.hook_fn)\n",
    "    def hook_fn(self, module, input, output): self.features = output\n",
    "    def remove(self): self.hook.remove()"
   ]
  },
  {
   "cell_type": "code",
   "execution_count": 152,
   "metadata": {},
   "outputs": [],
   "source": [
    "x2,y2 = next(iter(data.val_dl))\n"
   ]
  },
  {
   "cell_type": "code",
   "execution_count": 153,
   "metadata": {},
   "outputs": [
    {
     "data": {
      "text/plain": [
       "tensor([[[[ 1.6153e+00,  1.6267e+00,  1.6438e+00,  ..., -1.3707e+00,\n",
       "           -1.2756e+00, -1.2820e+00],\n",
       "          [ 1.6172e+00,  1.6299e+00,  1.6616e+00,  ..., -1.4279e+00,\n",
       "           -1.3461e+00, -1.3372e+00],\n",
       "          [ 1.6324e+00,  1.6553e+00,  1.6667e+00,  ..., -1.5218e+00,\n",
       "           -1.4590e+00, -1.4578e+00],\n",
       "          ...,\n",
       "          [-8.0827e-01, -1.0478e+00, -1.0832e+00,  ..., -1.9467e+00,\n",
       "           -1.9169e+00, -1.8992e+00],\n",
       "          [-1.3552e+00, -1.5315e+00, -1.4187e+00,  ..., -1.9251e+00,\n",
       "           -1.8813e+00, -1.8483e+00],\n",
       "          [-1.6458e+00, -1.5406e+00, -1.3879e+00,  ..., -1.8325e+00,\n",
       "           -1.7830e+00, -1.7145e+00]],\n",
       "\n",
       "         [[ 1.4540e+00,  1.4540e+00,  1.4540e+00,  ...,  7.5182e-01,\n",
       "            7.3098e-01,  6.7262e-01],\n",
       "          [ 1.4534e+00,  1.4534e+00,  1.4449e+00,  ...,  7.3102e-01,\n",
       "            7.3362e-01,  6.8434e-01],\n",
       "          [ 1.4482e+00,  1.4482e+00,  1.4423e+00,  ...,  7.1028e-01,\n",
       "            7.0767e-01,  6.6620e-01],\n",
       "          ...,\n",
       "          [-5.1049e-01, -7.2031e-01, -6.9374e-01,  ...,  5.8773e-01,\n",
       "            6.2075e-01,  6.3888e-01],\n",
       "          [-5.8967e-01, -7.2449e-01, -5.4113e-01,  ...,  5.8519e-01,\n",
       "            6.3381e-01,  6.7530e-01],\n",
       "          [-2.4526e-01, -1.0404e-01,  1.1364e-01,  ...,  6.3702e-01,\n",
       "            6.8762e-01,  7.5765e-01]],\n",
       "\n",
       "         [[ 4.4973e-01,  4.2649e-01,  3.4516e-01,  ..., -2.2229e-01,\n",
       "           -2.0428e-01, -2.4561e-01],\n",
       "          [ 4.4712e-01,  4.0842e-01,  3.4516e-01,  ..., -1.9837e-01,\n",
       "           -1.7191e-01, -1.9773e-01],\n",
       "          [ 4.2649e-01,  4.0325e-01,  3.4516e-01,  ..., -1.7376e-01,\n",
       "           -1.6152e-01, -1.8476e-01],\n",
       "          ...,\n",
       "          [-1.2304e+00, -1.3916e+00, -1.2804e+00,  ..., -4.2235e-01,\n",
       "           -4.0368e-01, -3.9849e-01],\n",
       "          [-1.1918e+00, -1.2937e+00, -1.0757e+00,  ..., -3.7849e-01,\n",
       "           -3.4299e-01, -3.2748e-01],\n",
       "          [-6.7513e-01, -5.3586e-01, -3.4696e-01,  ..., -2.7449e-01,\n",
       "           -2.2412e-01, -1.5440e-01]]],\n",
       "\n",
       "\n",
       "        [[[-2.4231e-01, -2.2276e-01, -1.9512e-01,  ..., -1.3277e+00,\n",
       "           -1.2958e+00, -1.2634e+00],\n",
       "          [-2.2467e-01, -2.0259e-01, -1.7578e-01,  ..., -1.3691e+00,\n",
       "           -1.3391e+00, -1.3007e+00],\n",
       "          [-1.9993e-01, -1.8711e-01, -1.5752e-01,  ..., -1.3773e+00,\n",
       "           -1.3473e+00, -1.3089e+00],\n",
       "          ...,\n",
       "          [-2.3133e-01, -2.7904e-01, -2.9885e-01,  ..., -1.3619e-01,\n",
       "           -1.3619e-01, -1.3619e-01],\n",
       "          [-1.6015e-01, -2.2360e-01, -2.6555e-01,  ..., -1.4769e-01,\n",
       "           -1.4769e-01, -1.4769e-01],\n",
       "          [-1.0497e-01, -1.8189e-01, -2.4371e-01,  ..., -1.8514e-01,\n",
       "           -1.8514e-01, -1.8514e-01]],\n",
       "\n",
       "         [[-1.6989e-01, -1.4990e-01, -1.2165e-01,  ..., -1.5305e+00,\n",
       "           -1.4937e+00, -1.4606e+00],\n",
       "          [-1.3523e-01, -1.1266e-01, -8.5254e-02,  ..., -1.5804e+00,\n",
       "           -1.5498e+00, -1.5105e+00],\n",
       "          [-1.0994e-01, -9.6838e-02, -6.6587e-02,  ..., -1.5759e+00,\n",
       "           -1.5450e+00, -1.5057e+00],\n",
       "          ...,\n",
       "          [-3.9784e-01, -4.3715e-01, -4.6051e-01,  ..., -3.4240e-01,\n",
       "           -3.4240e-01, -3.4240e-01],\n",
       "          [-3.6601e-01, -4.1777e-01, -4.6496e-01,  ..., -3.5416e-01,\n",
       "           -3.5416e-01, -3.5416e-01],\n",
       "          [-3.4390e-01, -4.1241e-01, -4.7894e-01,  ..., -3.9244e-01,\n",
       "           -3.9244e-01, -3.9244e-01]],\n",
       "\n",
       "         [[ 7.0514e-02,  9.0415e-02,  1.1854e-01,  ..., -1.5158e+00,\n",
       "           -1.5006e+00, -1.4677e+00],\n",
       "          [ 1.0502e-01,  1.2749e-01,  1.5478e-01,  ..., -1.5972e+00,\n",
       "           -1.5841e+00, -1.5449e+00],\n",
       "          [ 1.3020e-01,  1.4324e-01,  1.7336e-01,  ..., -1.6449e+00,\n",
       "           -1.6323e+00, -1.5932e+00],\n",
       "          ...,\n",
       "          [-2.6293e-01, -3.3034e-01, -3.4431e-01,  ..., -8.3796e-02,\n",
       "           -8.3796e-02, -8.3796e-02],\n",
       "          [-1.8705e-01, -2.7772e-01, -3.1185e-01,  ..., -9.5503e-02,\n",
       "           -9.5503e-02, -9.5503e-02],\n",
       "          [-1.3362e-01, -2.3207e-01, -2.8837e-01,  ..., -1.3362e-01,\n",
       "           -1.3362e-01, -1.3362e-01]]],\n",
       "\n",
       "\n",
       "        [[[ 7.3871e-01,  7.5339e-01,  8.3967e-01,  ...,  1.0114e+00,\n",
       "            8.9084e-01,  2.0496e-01],\n",
       "          [ 8.3442e-01,  8.5104e-01,  8.4842e-01,  ...,  9.6205e-01,\n",
       "            8.5073e-01,  1.4611e-01],\n",
       "          [ 7.3968e-01,  1.0608e+00,  8.2261e-01,  ...,  9.4448e-01,\n",
       "            9.0051e-01,  3.0139e-01],\n",
       "          ...,\n",
       "          [-4.1881e-01, -4.3080e-01, -4.9754e-01,  ...,  1.2872e-01,\n",
       "            7.2916e-01,  5.0041e-01],\n",
       "          [-3.6547e-01, -3.7472e-01, -4.6488e-01,  ...,  1.3603e-01,\n",
       "            7.1432e-01,  6.0460e-01],\n",
       "          [-4.0678e-01, -3.7439e-01, -4.2391e-01,  ..., -6.8107e-02,\n",
       "            6.6482e-01,  5.9890e-01]],\n",
       "\n",
       "         [[ 5.1759e-01,  5.4293e-01,  6.3693e-01,  ...,  7.8855e-01,\n",
       "            9.3021e-01,  4.4246e-01],\n",
       "          [ 4.7674e-01,  5.3621e-01,  5.9621e-01,  ...,  7.4388e-01,\n",
       "            8.7974e-01,  3.7017e-01],\n",
       "          [ 1.1178e-01,  5.7868e-01,  4.5093e-01,  ...,  7.9941e-01,\n",
       "            7.9023e-01,  2.2186e-01],\n",
       "          ...,\n",
       "          [-4.3875e-01, -4.5101e-01, -5.1924e-01,  ...,  4.7689e-01,\n",
       "            8.4965e-01,  4.2644e-01],\n",
       "          [-3.8422e-01, -3.9367e-01, -4.8585e-01,  ...,  5.2420e-01,\n",
       "            8.3467e-01,  4.8762e-01],\n",
       "          [-4.2645e-01, -3.9334e-01, -4.4397e-01,  ...,  3.4123e-01,\n",
       "            7.5576e-01,  4.2277e-01]],\n",
       "\n",
       "         [[ 6.4863e-03, -1.6722e-03,  3.1942e-02,  ...,  2.3162e-01,\n",
       "            1.8710e-01, -4.7703e-01],\n",
       "          [-3.3459e-02,  3.9094e-03,  2.3855e-02,  ...,  2.9456e-01,\n",
       "            2.7502e-01, -4.0174e-01],\n",
       "          [-2.8879e-01,  1.6258e-01,  6.0627e-02,  ...,  1.5919e-01,\n",
       "            1.5309e-01, -4.2367e-01],\n",
       "          ...,\n",
       "          [ 4.6861e-02,  3.4656e-02, -3.3269e-02,  ...,  1.3463e-01,\n",
       "            3.4039e-01, -2.3654e-01],\n",
       "          [ 1.0115e-01,  9.1735e-02, -2.9405e-05,  ...,  2.6669e-01,\n",
       "            3.3861e-01, -2.0497e-01],\n",
       "          [ 5.9101e-02,  9.2068e-02,  4.1667e-02,  ...,  1.5048e-01,\n",
       "            2.7541e-01, -2.8862e-01]]],\n",
       "\n",
       "\n",
       "        ...,\n",
       "\n",
       "\n",
       "        [[[-3.1002e-01, -2.8374e-01, -2.2820e-01,  ..., -2.0369e+00,\n",
       "           -2.0017e+00, -1.8766e+00],\n",
       "          [-3.1002e-01, -2.8374e-01, -2.3627e-01,  ..., -1.8227e+00,\n",
       "           -1.7666e+00, -1.6761e+00],\n",
       "          [-3.1002e-01, -2.8564e-01, -2.4867e-01,  ..., -1.3099e+00,\n",
       "           -1.2101e+00, -1.1695e+00],\n",
       "          ...,\n",
       "          [-7.7887e-01, -1.3161e+00, -1.2151e+00,  ..., -3.4791e-01,\n",
       "           -2.8570e-01, -2.8469e-01],\n",
       "          [-9.0643e-01, -1.2110e+00, -1.2506e+00,  ..., -3.4159e-01,\n",
       "           -2.6558e-01, -2.7664e-01],\n",
       "          [-9.5380e-01, -9.8115e-01, -1.1956e+00,  ..., -3.1208e-01,\n",
       "           -2.9495e-01, -2.5659e-01]],\n",
       "\n",
       "         [[-2.3863e-01, -2.4042e-01, -1.8111e-01,  ..., -1.8738e+00,\n",
       "           -1.8299e+00, -1.7051e+00],\n",
       "          [-2.3863e-01, -2.4042e-01, -1.8937e-01,  ..., -1.8019e+00,\n",
       "           -1.7611e+00, -1.6522e+00],\n",
       "          [-2.3863e-01, -2.4237e-01, -2.0205e-01,  ..., -1.4510e+00,\n",
       "           -1.4007e+00, -1.3406e+00],\n",
       "          ...,\n",
       "          [-5.9677e-01, -1.1732e+00, -1.0778e+00,  ..., -4.1879e-01,\n",
       "           -3.5519e-01, -3.6507e-01],\n",
       "          [-7.2717e-01, -1.0658e+00, -1.1141e+00,  ..., -4.1233e-01,\n",
       "           -3.3462e-01, -3.5684e-01],\n",
       "          [-7.7560e-01, -8.3086e-01, -1.0578e+00,  ..., -3.8216e-01,\n",
       "           -3.6465e-01, -3.3634e-01]],\n",
       "\n",
       "         [[-1.5863e-01, -8.7966e-02, -7.8800e-02,  ..., -1.6297e+00,\n",
       "           -1.6339e+00, -1.6457e+00],\n",
       "          [-1.5863e-01, -8.7966e-02, -8.7013e-02,  ..., -1.6231e+00,\n",
       "           -1.6425e+00, -1.6795e+00],\n",
       "          [-1.5863e-01, -8.9907e-02, -9.9642e-02,  ..., -1.3348e+00,\n",
       "           -1.3578e+00, -1.4417e+00],\n",
       "          ...,\n",
       "          [-6.3333e-01, -1.1937e+00, -1.0642e+00,  ..., -5.4329e-01,\n",
       "           -5.0847e-01, -5.2466e-01],\n",
       "          [-7.6316e-01, -1.0867e+00, -1.1003e+00,  ..., -5.3686e-01,\n",
       "           -4.8799e-01, -5.1647e-01],\n",
       "          [-8.1137e-01, -8.5279e-01, -1.0443e+00,  ..., -5.0682e-01,\n",
       "           -5.1789e-01, -4.9607e-01]]],\n",
       "\n",
       "\n",
       "        [[[-4.5809e-02, -4.5809e-02, -4.5809e-02,  ..., -1.0935e+00,\n",
       "           -1.0048e+00, -8.1887e-01],\n",
       "          [-4.5809e-02, -4.5809e-02, -4.5809e-02,  ..., -1.0616e+00,\n",
       "           -9.8491e-01, -8.0798e-01],\n",
       "          [-4.5809e-02, -4.5809e-02, -4.5809e-02,  ..., -9.2865e-01,\n",
       "           -9.0205e-01, -7.6260e-01],\n",
       "          ...,\n",
       "          [-1.5528e+00, -1.4641e+00, -1.3815e+00,  ..., -1.2959e+00,\n",
       "           -1.2959e+00, -1.2959e+00],\n",
       "          [-1.5804e+00, -1.4846e+00, -1.3953e+00,  ..., -1.2954e+00,\n",
       "           -1.3097e+00, -1.2816e+00],\n",
       "          [-1.5870e+00, -1.4895e+00, -1.3987e+00,  ..., -1.2953e+00,\n",
       "           -1.3130e+00, -1.2782e+00]],\n",
       "\n",
       "         [[-1.5455e+00, -1.5455e+00, -1.5455e+00,  ...,  2.4614e-01,\n",
       "            3.2773e-01,  2.9209e-01],\n",
       "          [-1.5455e+00, -1.5455e+00, -1.5455e+00,  ...,  2.6368e-01,\n",
       "            3.2773e-01,  2.8979e-01],\n",
       "          [-1.5455e+00, -1.5455e+00, -1.5455e+00,  ...,  3.3680e-01,\n",
       "            3.2773e-01,  2.8021e-01],\n",
       "          ...,\n",
       "          [-1.6506e+00, -1.5871e+00, -1.5280e+00,  ..., -3.6348e-01,\n",
       "           -3.7255e-01, -3.6067e-01],\n",
       "          [-1.6788e+00, -1.6153e+00, -1.5562e+00,  ..., -3.7811e-01,\n",
       "           -3.7255e-01, -3.7025e-01],\n",
       "          [-1.6856e+00, -1.6221e+00, -1.5630e+00,  ..., -3.8162e-01,\n",
       "           -3.7255e-01, -3.7255e-01]],\n",
       "\n",
       "         [[-1.1247e+00, -1.1247e+00, -1.1247e+00,  ...,  1.5840e+00,\n",
       "            1.6291e+00,  1.4872e+00],\n",
       "          [-1.1247e+00, -1.1247e+00, -1.1247e+00,  ...,  1.5946e+00,\n",
       "            1.6257e+00,  1.4747e+00],\n",
       "          [-1.1247e+00, -1.1247e+00, -1.1247e+00,  ...,  1.6388e+00,\n",
       "            1.6117e+00,  1.4224e+00],\n",
       "          ...,\n",
       "          [-1.4559e+00, -1.4017e+00, -1.3513e+00,  ...,  1.0275e+00,\n",
       "            1.0365e+00,  1.0247e+00],\n",
       "          [-1.5121e+00, -1.4434e+00, -1.3794e+00,  ...,  1.0067e+00,\n",
       "            1.0084e+00,  1.0157e+00],\n",
       "          [-1.5256e+00, -1.4534e+00, -1.3861e+00,  ...,  1.0017e+00,\n",
       "            1.0017e+00,  1.0135e+00]]],\n",
       "\n",
       "\n",
       "        [[[-5.8941e-02, -5.8941e-02,  1.2520e-03,  ...,  1.0135e+00,\n",
       "            5.4850e-01,  5.4850e-01],\n",
       "          [-8.0058e-02, -8.0058e-02, -4.2941e-03,  ...,  1.0036e+00,\n",
       "            5.3643e-01,  5.3643e-01],\n",
       "          [ 4.5671e-02,  4.5671e-02,  2.1594e-02,  ...,  9.7365e-01,\n",
       "            4.4939e-01,  4.4939e-01],\n",
       "          ...,\n",
       "          [ 1.6874e-01,  1.6874e-01,  2.3456e-01,  ..., -1.5723e+00,\n",
       "           -1.5036e+00, -1.5036e+00],\n",
       "          [ 3.1381e-01,  3.1381e-01,  3.0118e-01,  ..., -1.5601e+00,\n",
       "           -1.4843e+00, -1.4843e+00],\n",
       "          [ 3.1683e-01,  3.1683e-01,  2.8418e-01,  ..., -1.5556e+00,\n",
       "           -1.4843e+00, -1.4843e+00]],\n",
       "\n",
       "         [[-5.3428e-01, -5.3428e-01, -4.7275e-01,  ...,  1.1306e+00,\n",
       "            6.5519e-01,  6.5519e-01],\n",
       "          [-5.6513e-01, -5.6513e-01, -4.8767e-01,  ...,  1.1205e+00,\n",
       "            6.4286e-01,  6.4286e-01],\n",
       "          [-4.5636e-01, -4.5636e-01, -4.6640e-01,  ...,  1.0799e+00,\n",
       "            5.4398e-01,  5.4398e-01],\n",
       "          ...,\n",
       "          [-2.5312e-02, -2.5312e-02,  6.3849e-02,  ..., -1.3851e+00,\n",
       "           -1.3408e+00, -1.3408e+00],\n",
       "          [ 1.5266e-01,  1.5266e-01,  1.3975e-01,  ..., -1.4221e+00,\n",
       "           -1.3704e+00, -1.3704e+00],\n",
       "          [ 1.6191e-01,  1.6191e-01,  1.2854e-01,  ..., -1.4206e+00,\n",
       "           -1.3735e+00, -1.3735e+00]],\n",
       "\n",
       "         [[-6.6748e-01, -6.6748e-01, -6.0622e-01,  ...,  1.5532e+00,\n",
       "            1.1011e+00,  1.1011e+00],\n",
       "          [-6.8898e-01, -6.8898e-01, -6.1186e-01,  ...,  1.5386e+00,\n",
       "            1.0888e+00,  1.0888e+00],\n",
       "          [-5.6101e-01, -5.6101e-01, -5.7826e-01,  ...,  1.4786e+00,\n",
       "            9.7068e-01,  9.7068e-01],\n",
       "          ...,\n",
       "          [ 3.6147e-01,  3.6147e-01,  4.4298e-01,  ..., -9.8828e-01,\n",
       "           -9.3687e-01, -9.3687e-01],\n",
       "          [ 5.4850e-01,  5.4850e-01,  5.3565e-01,  ..., -1.1064e+00,\n",
       "           -1.0550e+00, -1.0550e+00],\n",
       "          [ 5.4850e-01,  5.4850e-01,  5.1527e-01,  ..., -1.1226e+00,\n",
       "           -1.0734e+00, -1.0734e+00]]]], device='cuda:0')"
      ]
     },
     "execution_count": 153,
     "metadata": {},
     "output_type": "execute_result"
    }
   ],
   "source": [
    "#??data.val_dl\n",
    "x2"
   ]
  },
  {
   "cell_type": "code",
   "execution_count": 154,
   "metadata": {},
   "outputs": [],
   "source": [
    "x2,y2 = x2[None,1], y2[None,1]\n",
    "vx = Variable(x2.cuda(), requires_grad=True)"
   ]
  },
  {
   "cell_type": "code",
   "execution_count": 155,
   "metadata": {},
   "outputs": [
    {
     "data": {
      "text/plain": [
       "Sequential(\n",
       "  (0): Conv2d(3, 64, kernel_size=(7, 7), stride=(2, 2), padding=(3, 3), bias=False)\n",
       "  (1): BatchNorm2d(64, eps=1e-05, momentum=0.1, affine=True, track_running_stats=True)\n",
       "  (2): ReLU(inplace)\n",
       "  (3): MaxPool2d(kernel_size=3, stride=2, padding=1, dilation=1, ceil_mode=False)\n",
       "  (4): Sequential(\n",
       "    (0): BasicBlock(\n",
       "      (conv1): Conv2d(64, 64, kernel_size=(3, 3), stride=(1, 1), padding=(1, 1), bias=False)\n",
       "      (bn1): BatchNorm2d(64, eps=1e-05, momentum=0.1, affine=True, track_running_stats=True)\n",
       "      (relu): ReLU(inplace)\n",
       "      (conv2): Conv2d(64, 64, kernel_size=(3, 3), stride=(1, 1), padding=(1, 1), bias=False)\n",
       "      (bn2): BatchNorm2d(64, eps=1e-05, momentum=0.1, affine=True, track_running_stats=True)\n",
       "    )\n",
       "    (1): BasicBlock(\n",
       "      (conv1): Conv2d(64, 64, kernel_size=(3, 3), stride=(1, 1), padding=(1, 1), bias=False)\n",
       "      (bn1): BatchNorm2d(64, eps=1e-05, momentum=0.1, affine=True, track_running_stats=True)\n",
       "      (relu): ReLU(inplace)\n",
       "      (conv2): Conv2d(64, 64, kernel_size=(3, 3), stride=(1, 1), padding=(1, 1), bias=False)\n",
       "      (bn2): BatchNorm2d(64, eps=1e-05, momentum=0.1, affine=True, track_running_stats=True)\n",
       "    )\n",
       "    (2): BasicBlock(\n",
       "      (conv1): Conv2d(64, 64, kernel_size=(3, 3), stride=(1, 1), padding=(1, 1), bias=False)\n",
       "      (bn1): BatchNorm2d(64, eps=1e-05, momentum=0.1, affine=True, track_running_stats=True)\n",
       "      (relu): ReLU(inplace)\n",
       "      (conv2): Conv2d(64, 64, kernel_size=(3, 3), stride=(1, 1), padding=(1, 1), bias=False)\n",
       "      (bn2): BatchNorm2d(64, eps=1e-05, momentum=0.1, affine=True, track_running_stats=True)\n",
       "    )\n",
       "  )\n",
       "  (5): Sequential(\n",
       "    (0): BasicBlock(\n",
       "      (conv1): Conv2d(64, 128, kernel_size=(3, 3), stride=(2, 2), padding=(1, 1), bias=False)\n",
       "      (bn1): BatchNorm2d(128, eps=1e-05, momentum=0.1, affine=True, track_running_stats=True)\n",
       "      (relu): ReLU(inplace)\n",
       "      (conv2): Conv2d(128, 128, kernel_size=(3, 3), stride=(1, 1), padding=(1, 1), bias=False)\n",
       "      (bn2): BatchNorm2d(128, eps=1e-05, momentum=0.1, affine=True, track_running_stats=True)\n",
       "      (downsample): Sequential(\n",
       "        (0): Conv2d(64, 128, kernel_size=(1, 1), stride=(2, 2), bias=False)\n",
       "        (1): BatchNorm2d(128, eps=1e-05, momentum=0.1, affine=True, track_running_stats=True)\n",
       "      )\n",
       "    )\n",
       "    (1): BasicBlock(\n",
       "      (conv1): Conv2d(128, 128, kernel_size=(3, 3), stride=(1, 1), padding=(1, 1), bias=False)\n",
       "      (bn1): BatchNorm2d(128, eps=1e-05, momentum=0.1, affine=True, track_running_stats=True)\n",
       "      (relu): ReLU(inplace)\n",
       "      (conv2): Conv2d(128, 128, kernel_size=(3, 3), stride=(1, 1), padding=(1, 1), bias=False)\n",
       "      (bn2): BatchNorm2d(128, eps=1e-05, momentum=0.1, affine=True, track_running_stats=True)\n",
       "    )\n",
       "    (2): BasicBlock(\n",
       "      (conv1): Conv2d(128, 128, kernel_size=(3, 3), stride=(1, 1), padding=(1, 1), bias=False)\n",
       "      (bn1): BatchNorm2d(128, eps=1e-05, momentum=0.1, affine=True, track_running_stats=True)\n",
       "      (relu): ReLU(inplace)\n",
       "      (conv2): Conv2d(128, 128, kernel_size=(3, 3), stride=(1, 1), padding=(1, 1), bias=False)\n",
       "      (bn2): BatchNorm2d(128, eps=1e-05, momentum=0.1, affine=True, track_running_stats=True)\n",
       "    )\n",
       "    (3): BasicBlock(\n",
       "      (conv1): Conv2d(128, 128, kernel_size=(3, 3), stride=(1, 1), padding=(1, 1), bias=False)\n",
       "      (bn1): BatchNorm2d(128, eps=1e-05, momentum=0.1, affine=True, track_running_stats=True)\n",
       "      (relu): ReLU(inplace)\n",
       "      (conv2): Conv2d(128, 128, kernel_size=(3, 3), stride=(1, 1), padding=(1, 1), bias=False)\n",
       "      (bn2): BatchNorm2d(128, eps=1e-05, momentum=0.1, affine=True, track_running_stats=True)\n",
       "    )\n",
       "  )\n",
       "  (6): Sequential(\n",
       "    (0): BasicBlock(\n",
       "      (conv1): Conv2d(128, 256, kernel_size=(3, 3), stride=(2, 2), padding=(1, 1), bias=False)\n",
       "      (bn1): BatchNorm2d(256, eps=1e-05, momentum=0.1, affine=True, track_running_stats=True)\n",
       "      (relu): ReLU(inplace)\n",
       "      (conv2): Conv2d(256, 256, kernel_size=(3, 3), stride=(1, 1), padding=(1, 1), bias=False)\n",
       "      (bn2): BatchNorm2d(256, eps=1e-05, momentum=0.1, affine=True, track_running_stats=True)\n",
       "      (downsample): Sequential(\n",
       "        (0): Conv2d(128, 256, kernel_size=(1, 1), stride=(2, 2), bias=False)\n",
       "        (1): BatchNorm2d(256, eps=1e-05, momentum=0.1, affine=True, track_running_stats=True)\n",
       "      )\n",
       "    )\n",
       "    (1): BasicBlock(\n",
       "      (conv1): Conv2d(256, 256, kernel_size=(3, 3), stride=(1, 1), padding=(1, 1), bias=False)\n",
       "      (bn1): BatchNorm2d(256, eps=1e-05, momentum=0.1, affine=True, track_running_stats=True)\n",
       "      (relu): ReLU(inplace)\n",
       "      (conv2): Conv2d(256, 256, kernel_size=(3, 3), stride=(1, 1), padding=(1, 1), bias=False)\n",
       "      (bn2): BatchNorm2d(256, eps=1e-05, momentum=0.1, affine=True, track_running_stats=True)\n",
       "    )\n",
       "    (2): BasicBlock(\n",
       "      (conv1): Conv2d(256, 256, kernel_size=(3, 3), stride=(1, 1), padding=(1, 1), bias=False)\n",
       "      (bn1): BatchNorm2d(256, eps=1e-05, momentum=0.1, affine=True, track_running_stats=True)\n",
       "      (relu): ReLU(inplace)\n",
       "      (conv2): Conv2d(256, 256, kernel_size=(3, 3), stride=(1, 1), padding=(1, 1), bias=False)\n",
       "      (bn2): BatchNorm2d(256, eps=1e-05, momentum=0.1, affine=True, track_running_stats=True)\n",
       "    )\n",
       "    (3): BasicBlock(\n",
       "      (conv1): Conv2d(256, 256, kernel_size=(3, 3), stride=(1, 1), padding=(1, 1), bias=False)\n",
       "      (bn1): BatchNorm2d(256, eps=1e-05, momentum=0.1, affine=True, track_running_stats=True)\n",
       "      (relu): ReLU(inplace)\n",
       "      (conv2): Conv2d(256, 256, kernel_size=(3, 3), stride=(1, 1), padding=(1, 1), bias=False)\n",
       "      (bn2): BatchNorm2d(256, eps=1e-05, momentum=0.1, affine=True, track_running_stats=True)\n",
       "    )\n",
       "    (4): BasicBlock(\n",
       "      (conv1): Conv2d(256, 256, kernel_size=(3, 3), stride=(1, 1), padding=(1, 1), bias=False)\n",
       "      (bn1): BatchNorm2d(256, eps=1e-05, momentum=0.1, affine=True, track_running_stats=True)\n",
       "      (relu): ReLU(inplace)\n",
       "      (conv2): Conv2d(256, 256, kernel_size=(3, 3), stride=(1, 1), padding=(1, 1), bias=False)\n",
       "      (bn2): BatchNorm2d(256, eps=1e-05, momentum=0.1, affine=True, track_running_stats=True)\n",
       "    )\n",
       "    (5): BasicBlock(\n",
       "      (conv1): Conv2d(256, 256, kernel_size=(3, 3), stride=(1, 1), padding=(1, 1), bias=False)\n",
       "      (bn1): BatchNorm2d(256, eps=1e-05, momentum=0.1, affine=True, track_running_stats=True)\n",
       "      (relu): ReLU(inplace)\n",
       "      (conv2): Conv2d(256, 256, kernel_size=(3, 3), stride=(1, 1), padding=(1, 1), bias=False)\n",
       "      (bn2): BatchNorm2d(256, eps=1e-05, momentum=0.1, affine=True, track_running_stats=True)\n",
       "    )\n",
       "  )\n",
       "  (7): Sequential(\n",
       "    (0): BasicBlock(\n",
       "      (conv1): Conv2d(256, 512, kernel_size=(3, 3), stride=(2, 2), padding=(1, 1), bias=False)\n",
       "      (bn1): BatchNorm2d(512, eps=1e-05, momentum=0.1, affine=True, track_running_stats=True)\n",
       "      (relu): ReLU(inplace)\n",
       "      (conv2): Conv2d(512, 512, kernel_size=(3, 3), stride=(1, 1), padding=(1, 1), bias=False)\n",
       "      (bn2): BatchNorm2d(512, eps=1e-05, momentum=0.1, affine=True, track_running_stats=True)\n",
       "      (downsample): Sequential(\n",
       "        (0): Conv2d(256, 512, kernel_size=(1, 1), stride=(2, 2), bias=False)\n",
       "        (1): BatchNorm2d(512, eps=1e-05, momentum=0.1, affine=True, track_running_stats=True)\n",
       "      )\n",
       "    )\n",
       "    (1): BasicBlock(\n",
       "      (conv1): Conv2d(512, 512, kernel_size=(3, 3), stride=(1, 1), padding=(1, 1), bias=False)\n",
       "      (bn1): BatchNorm2d(512, eps=1e-05, momentum=0.1, affine=True, track_running_stats=True)\n",
       "      (relu): ReLU(inplace)\n",
       "      (conv2): Conv2d(512, 512, kernel_size=(3, 3), stride=(1, 1), padding=(1, 1), bias=False)\n",
       "      (bn2): BatchNorm2d(512, eps=1e-05, momentum=0.1, affine=True, track_running_stats=True)\n",
       "    )\n",
       "    (2): BasicBlock(\n",
       "      (conv1): Conv2d(512, 512, kernel_size=(3, 3), stride=(1, 1), padding=(1, 1), bias=False)\n",
       "      (bn1): BatchNorm2d(512, eps=1e-05, momentum=0.1, affine=True, track_running_stats=True)\n",
       "      (relu): ReLU(inplace)\n",
       "      (conv2): Conv2d(512, 512, kernel_size=(3, 3), stride=(1, 1), padding=(1, 1), bias=False)\n",
       "      (bn2): BatchNorm2d(512, eps=1e-05, momentum=0.1, affine=True, track_running_stats=True)\n",
       "    )\n",
       "  )\n",
       "  (8): Conv2d(512, 2, kernel_size=(3, 3), stride=(1, 1), padding=(1, 1))\n",
       "  (9): AdaptiveAvgPool2d(output_size=1)\n",
       "  (10): Flatten()\n",
       "  (11): LogSoftmax()\n",
       ")"
      ]
     },
     "execution_count": 155,
     "metadata": {},
     "output_type": "execute_result"
    }
   ],
   "source": [
    "m"
   ]
  },
  {
   "cell_type": "code",
   "execution_count": 169,
   "metadata": {
    "scrolled": true
   },
   "outputs": [
    {
     "data": {
      "text/plain": [
       "<matplotlib.image.AxesImage at 0x29b07a04c88>"
      ]
     },
     "execution_count": 169,
     "metadata": {},
     "output_type": "execute_result"
    },
    {
     "data": {
      "image/png": "[encoded data removed]",
      "text/plain": [
       "<Figure size 432x288 with 1 Axes>"
      ]
     },
     "metadata": {
      "needs_background": "light"
     },
     "output_type": "display_data"
    }
   ],
   "source": [
    "dx = data.val_ds.denorm(x2)\n",
    "dx = dx[0]\n",
    "plt.imshow(dx)"
   ]
  },
  {
   "cell_type": "code",
   "execution_count": 170,
   "metadata": {},
   "outputs": [
    {
     "data": {
      "text/plain": [
       "array([[[0.42951, 0.41794, 0.42187],\n",
       "        [0.43399, 0.42242, 0.42634],\n",
       "        [0.44032, 0.42875, 0.43267],\n",
       "        ...,\n",
       "        [0.18095, 0.11316, 0.06495],\n",
       "        [0.18827, 0.1214 , 0.06836],\n",
       "        [0.19568, 0.12882, 0.07578]],\n",
       "\n",
       "       [[0.43355, 0.42571, 0.42963],\n",
       "        [0.43861, 0.43076, 0.43469],\n",
       "        [0.44475, 0.4369 , 0.44082],\n",
       "        ...,\n",
       "        [0.17148, 0.10198, 0.04662],\n",
       "        [0.17834, 0.10884, 0.04958],\n",
       "        [0.18715, 0.11765, 0.05839]],\n",
       "\n",
       "       [[0.43922, 0.43137, 0.43529],\n",
       "        [0.44215, 0.43431, 0.43823],\n",
       "        [0.44893, 0.44108, 0.44501],\n",
       "        ...,\n",
       "        [0.1696 , 0.10299, 0.03589],\n",
       "        [0.17646, 0.10991, 0.03873],\n",
       "        [0.18526, 0.11872, 0.04753]],\n",
       "\n",
       "       ...,\n",
       "\n",
       "       [[0.43203, 0.36688, 0.34684],\n",
       "        [0.4211 , 0.35808, 0.33167],\n",
       "        [0.41656, 0.35285, 0.32853],\n",
       "        ...,\n",
       "        [0.45381, 0.3793 , 0.38715],\n",
       "        [0.45381, 0.3793 , 0.38715],\n",
       "        [0.45381, 0.3793 , 0.38715]],\n",
       "\n",
       "       [[0.44833, 0.37401, 0.36391],\n",
       "        [0.4338 , 0.36242, 0.34351],\n",
       "        [0.42419, 0.35185, 0.33583],\n",
       "        ...,\n",
       "        [0.45118, 0.37667, 0.38451],\n",
       "        [0.45118, 0.37667, 0.38451],\n",
       "        [0.45118, 0.37667, 0.38451]],\n",
       "\n",
       "       [[0.46096, 0.37897, 0.37594],\n",
       "        [0.44335, 0.36362, 0.35378],\n",
       "        [0.42919, 0.34872, 0.34112],\n",
       "        ...,\n",
       "        [0.4426 , 0.36809, 0.37594],\n",
       "        [0.4426 , 0.36809, 0.37594],\n",
       "        [0.4426 , 0.36809, 0.37594]]], dtype=float32)"
      ]
     },
     "execution_count": 170,
     "metadata": {},
     "output_type": "execute_result"
    }
   ],
   "source": [
    "dx"
   ]
  },
  {
   "cell_type": "code",
   "execution_count": 171,
   "metadata": {},
   "outputs": [],
   "source": [
    "sfs = [SaveFeatures(o) for o in [m[-7], m[-6], m[-5], m[-4]]]"
   ]
  },
  {
   "cell_type": "code",
   "execution_count": 172,
   "metadata": {},
   "outputs": [
    {
     "data": {
      "text/plain": [
       "Conv2d(512, 2, kernel_size=(3, 3), stride=(1, 1), padding=(1, 1))"
      ]
     },
     "execution_count": 172,
     "metadata": {},
     "output_type": "execute_result"
    }
   ],
   "source": [
    "m[-4]"
   ]
  },
  {
   "cell_type": "code",
   "execution_count": 173,
   "metadata": {},
   "outputs": [],
   "source": [
    "sfs[0].features"
   ]
  },
  {
   "cell_type": "code",
   "execution_count": 174,
   "metadata": {},
   "outputs": [
    {
     "name": "stdout",
     "output_type": "stream",
     "text": [
      "Wall time: 12 ms\n"
     ]
    }
   ],
   "source": [
    "%time py = m(Variable(x.cuda()))"
   ]
  },
  {
   "cell_type": "code",
   "execution_count": 175,
   "metadata": {},
   "outputs": [],
   "source": [
    "for o in sfs: o.remove()"
   ]
  },
  {
   "cell_type": "code",
   "execution_count": 176,
   "metadata": {},
   "outputs": [
    {
     "data": {
      "text/plain": [
       "[torch.Size([1, 128, 28, 28]),\n",
       " torch.Size([1, 256, 14, 14]),\n",
       " torch.Size([1, 512, 7, 7]),\n",
       " torch.Size([1, 2, 7, 7])]"
      ]
     },
     "execution_count": 176,
     "metadata": {},
     "output_type": "execute_result"
    }
   ],
   "source": [
    "[o.features.size() for o in sfs]"
   ]
  },
  {
   "cell_type": "code",
   "execution_count": 177,
   "metadata": {},
   "outputs": [
    {
     "data": {
      "text/plain": [
       "array([1., 0.], dtype=float32)"
      ]
     },
     "execution_count": 177,
     "metadata": {},
     "output_type": "execute_result"
    }
   ],
   "source": [
    "py = np.exp(to_np(py)[0]); py"
   ]
  },
  {
   "cell_type": "code",
   "execution_count": 239,
   "metadata": {},
   "outputs": [
    {
     "data": {
      "text/plain": [
       "(2, 7, 7)"
      ]
     },
     "execution_count": 239,
     "metadata": {},
     "output_type": "execute_result"
    }
   ],
   "source": [
    "feat = np.maximum(0,to_np(sfs[3].features[0]))\n",
    "feat.shape"
   ]
  },
  {
   "cell_type": "code",
   "execution_count": 240,
   "metadata": {
    "scrolled": true
   },
   "outputs": [
    {
     "data": {
      "text/plain": [
       "array([[27.55494, 39.46859, 39.7856 , 36.63998, 34.8027 , 30.30743, 18.6576 ],\n",
       "       [38.58298, 56.93545, 60.0108 , 57.03769, 56.61997, 49.86317, 30.45098],\n",
       "       [39.58378, 61.1045 , 67.70815, 67.4744 , 69.96329, 63.31456, 39.82455],\n",
       "       [37.05197, 58.74424, 68.81008, 71.54906, 75.47218, 69.69159, 45.55502],\n",
       "       [34.90163, 55.29257, 64.17142, 64.19238, 68.94151, 65.70556, 44.15808],\n",
       "       [27.90146, 44.15351, 50.04641, 47.75785, 50.26436, 49.03651, 34.00778],\n",
       "       [14.48585, 22.91603, 24.70611, 21.55622, 21.59521, 21.9947 , 15.73048]], dtype=float32)"
      ]
     },
     "execution_count": 240,
     "metadata": {},
     "output_type": "execute_result"
    }
   ],
   "source": [
    "f2=np.dot(np.rollaxis(feat,0,3), py)\n",
    "f2\n"
   ]
  },
  {
   "cell_type": "code",
   "execution_count": 241,
   "metadata": {},
   "outputs": [
    {
     "data": {
      "text/plain": [
       "array([[0.2143 , 0.40964, 0.41484, 0.36326, 0.33314, 0.25943, 0.0684 ],\n",
       "       [0.39512, 0.69605, 0.74648, 0.69773, 0.69088, 0.58009, 0.26178],\n",
       "       [0.41153, 0.76441, 0.87269, 0.86886, 0.90967, 0.80065, 0.41548],\n",
       "       [0.37002, 0.72571, 0.89076, 0.93567, 1.     , 0.90521, 0.50944],\n",
       "       [0.33476, 0.66911, 0.8147 , 0.81504, 0.89292, 0.83986, 0.48654],\n",
       "       [0.21998, 0.48646, 0.58309, 0.54556, 0.58666, 0.56653, 0.3201 ],\n",
       "       [0.     , 0.13823, 0.16758, 0.11593, 0.11657, 0.12312, 0.02041]], dtype=float32)"
      ]
     },
     "execution_count": 241,
     "metadata": {},
     "output_type": "execute_result"
    }
   ],
   "source": [
    "f2-=f2.min()\n",
    "f2/=f2.max()\n",
    "f2"
   ]
  },
  {
   "cell_type": "code",
   "execution_count": 242,
   "metadata": {},
   "outputs": [
    {
     "data": {
      "text/plain": [
       "array([[0., 0., 0., 0., 0., 0., 0.],\n",
       "       [0., 1., 1., 1., 1., 1., 0.],\n",
       "       [0., 1., 1., 1., 1., 1., 0.],\n",
       "       [0., 1., 1., 1., 1., 1., 1.],\n",
       "       [0., 1., 1., 1., 1., 1., 0.],\n",
       "       [0., 0., 1., 1., 1., 1., 0.],\n",
       "       [0., 0., 0., 0., 0., 0., 0.]], dtype=float32)"
      ]
     },
     "execution_count": 242,
     "metadata": {},
     "output_type": "execute_result"
    }
   ],
   "source": [
    "f2[f2 > 0.5] = 1\n",
    "f2[f2 < 0.5] = 0\n",
    "\n",
    "f2"
   ]
  },
  {
   "cell_type": "code",
   "execution_count": 252,
   "metadata": {},
   "outputs": [
    {
     "data": {
      "text/plain": [
       "array([0, 1, 1, 1, 1, 2, 0], dtype=int64)"
      ]
     },
     "execution_count": 252,
     "metadata": {},
     "output_type": "execute_result"
    }
   ],
   "source": [
    "f3 = np.ma.masked_equal(f2,1)"
   ]
  },
  {
   "cell_type": "code",
   "execution_count": 244,
   "metadata": {},
   "outputs": [
    {
     "name": "stderr",
     "output_type": "stream",
     "text": [
      "C:\\Users\\amunchet\\Anaconda3\\lib\\site-packages\\skimage\\transform\\_warps.py:105: UserWarning: The default mode, 'constant', will be changed to 'reflect' in skimage 0.15.\n",
      "  warn(\"The default mode, 'constant', will be changed to 'reflect' in \"\n",
      "C:\\Users\\amunchet\\Anaconda3\\lib\\site-packages\\skimage\\transform\\_warps.py:110: UserWarning: Anti-aliasing will be enabled by default in skimage 0.15 to avoid aliasing artifacts when down-sampling images.\n",
      "  warn(\"Anti-aliasing will be enabled by default in skimage 0.15 to \"\n"
     ]
    },
    {
     "data": {
      "image/png": "[encoded data removed]",
      "text/plain": [
       "<Figure size 432x288 with 1 Axes>"
      ]
     },
     "metadata": {
      "needs_background": "light"
     },
     "output_type": "display_data"
    }
   ],
   "source": [
    "plt.imshow(dx)\n",
    "import skimage.transform as tf\n",
    "#tf\n",
    "plt.imshow(tf.resize(f2, dx.shape), alpha=0.74, cmap='jet');"
   ]
  },
  {
   "cell_type": "code",
   "execution_count": 245,
   "metadata": {},
   "outputs": [
    {
     "data": {
      "text/plain": [
       "<matplotlib.image.AxesImage at 0x29af689aa90>"
      ]
     },
     "execution_count": 245,
     "metadata": {},
     "output_type": "execute_result"
    },
    {
     "data": {
      "image/png": "[encoded data removed]",
      "text/plain": [
       "<Figure size 432x288 with 1 Axes>"
      ]
     },
     "metadata": {
      "needs_background": "light"
     },
     "output_type": "display_data"
    }
   ],
   "source": [
    "#tf.resize(f2,dx.shape)\n",
    "f3.shape\n",
    "plt.imshow(f3)"
   ]
  },
  {
   "cell_type": "code",
   "execution_count": 214,
   "metadata": {},
   "outputs": [
    {
     "data": {
      "text/plain": [
       "<matplotlib.image.AxesImage at 0x29ac49dfbe0>"
      ]
     },
     "execution_count": 214,
     "metadata": {},
     "output_type": "execute_result"
    },
    {
     "data": {
      "image/png": "[encoded data removed]",
      "text/plain": [
       "<Figure size 432x288 with 1 Axes>"
      ]
     },
     "metadata": {
      "needs_background": "light"
     },
     "output_type": "display_data"
    }
   ],
   "source": [
    "f3 = np.kron(f2, np.ones((224,224)))\n",
    "plt.imshow(f3)"
   ]
  },
  {
   "cell_type": "markdown",
   "metadata": {},
   "source": [
    "## Model"
   ]
  },
  {
   "cell_type": "code",
   "execution_count": null,
   "metadata": {},
   "outputs": [],
   "source": [
    "learn.unfreeze()\n",
    "learn.bn_freeze(True)"
   ]
  },
  {
   "cell_type": "code",
   "execution_count": null,
   "metadata": {},
   "outputs": [],
   "source": [
    "# 12 layer groups call for 12 lrs\n",
    "lr=np.array([[1e-6]*4,[1e-4]*4,[1e-2]*4]).flatten()"
   ]
  },
  {
   "cell_type": "code",
   "execution_count": null,
   "metadata": {},
   "outputs": [
    {
     "data": {
      "application/vnd.jupyter.widget-view+json": {
       "model_id": "332ee77d38594f239e83afcbaf4b28ee",
       "version_major": 2,
       "version_minor": 0
      },
      "text/plain": [
       "A Jupyter Widget"
      ]
     },
     "metadata": {},
     "output_type": "display_data"
    },
    {
     "name": "stdout",
     "output_type": "stream",
     "text": [
      "[ 0.       0.02049  0.01577  0.99405]                         \n",
      "[ 1.       0.01648  0.0137   0.99554]                          \n",
      "\n"
     ]
    }
   ],
   "source": [
    "learn.fit(lr, 2, cycle_len=1)"
   ]
  },
  {
   "cell_type": "code",
   "execution_count": null,
   "metadata": {},
   "outputs": [
    {
     "data": {
      "text/plain": [
       "0.996"
      ]
     },
     "execution_count": null,
     "metadata": {},
     "output_type": "execute_result"
    }
   ],
   "source": [
    "log_preds,y = learn.TTA()\n",
    "preds = np.mean(np.exp(log_preds),0)\n",
    "accuracy_np(preds,y)"
   ]
  },
  {
   "cell_type": "code",
   "execution_count": null,
   "metadata": {},
   "outputs": [
    {
     "data": {
      "application/vnd.jupyter.widget-view+json": {
       "model_id": "aae7fd5595d242d8adbf619aeb8371c9",
       "version_major": 2,
       "version_minor": 0
      },
      "text/plain": [
       "A Jupyter Widget"
      ]
     },
     "metadata": {},
     "output_type": "display_data"
    },
    {
     "name": "stdout",
     "output_type": "stream",
     "text": [
      "[ 0.       0.01243  0.01535  0.99554]                          \n",
      "[ 1.       0.0128   0.01507  0.99554]                          \n",
      "\n"
     ]
    }
   ],
   "source": [
    "learn.fit(lr, 2, cycle_len=1)"
   ]
  },
  {
   "cell_type": "code",
   "execution_count": null,
   "metadata": {},
   "outputs": [
    {
     "data": {
      "text/plain": [
       "0.99650000000000005"
      ]
     },
     "execution_count": null,
     "metadata": {},
     "output_type": "execute_result"
    }
   ],
   "source": [
    "log_preds,y = learn.TTA()\n",
    "preds = np.mean(np.exp(log_preds),0)\n",
    "accuracy_np(preds,y)"
   ]
  },
  {
   "cell_type": "code",
   "execution_count": null,
   "metadata": {},
   "outputs": [],
   "source": []
  }
 ],
 "metadata": {
  "kernelspec": {
   "display_name": "Python 3",
   "language": "python",
   "name": "python3"
  },
  "language_info": {
   "codemirror_mode": {
    "name": "ipython",
    "version": 3
   },
   "file_extension": ".py",
   "mimetype": "text/x-python",
   "name": "python",
   "nbconvert_exporter": "python",
   "pygments_lexer": "ipython3",
   "version": "3.6.6"
  }
 },
 "nbformat": 4,
 "nbformat_minor": 2
}

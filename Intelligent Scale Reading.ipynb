{
 "cells": [
  {
   "cell_type": "markdown",
   "metadata": {},
   "source": [
    "# Intelligent Scale Reading"
   ]
  },
  {
   "cell_type": "markdown",
   "metadata": {},
   "source": [
    "The purpose of this is to take in an image captured via iPhone camera and determine what the weight displayed on the scale is.  This will then be passed down the pipeline to record and perform analytics on.\n"
   ]
  },
  {
   "cell_type": "code",
   "execution_count": 1,
   "metadata": {},
   "outputs": [],
   "source": [
    "VERSION = \"5\""
   ]
  },
  {
   "cell_type": "code",
   "execution_count": 2,
   "metadata": {},
   "outputs": [],
   "source": [
    "%reload_ext autoreload\n",
    "%autoreload 2\n",
    "%matplotlib inline"
   ]
  },
  {
   "cell_type": "code",
   "execution_count": 5,
   "metadata": {},
   "outputs": [],
   "source": [
    "from fastai.imports import *\n",
    "from fastai.torch_imports import *\n",
    "from fastai.transforms import *\n",
    "from fastai.conv_learner import *\n",
    "from fastai.model import *\n",
    "from fastai.dataset import *\n",
    "from fastai.sgdr import *\n",
    "from fastai.plots import *\n",
    "torch.cuda.set_device(0)\n",
    "\n",
    "import cv2"
   ]
  },
  {
   "cell_type": "code",
   "execution_count": 4,
   "metadata": {},
   "outputs": [],
   "source": [
    "PATH = \"/src/data/digits/\""
   ]
  },
  {
   "cell_type": "markdown",
   "metadata": {},
   "source": [
    "### (Didn't work): Retrieiving Digit Images to Train on"
   ]
  },
  {
   "cell_type": "markdown",
   "metadata": {},
   "source": [
    "First step is to build the data library for the model to learn the digits 0-9 and be able to identify them in photos.  We'll use the google_images_download (which we have already installed chromedriver.exe for) to retrieve our training data."
   ]
  },
  {
   "cell_type": "code",
   "execution_count": null,
   "metadata": {},
   "outputs": [],
   "source": [
    "from google_images_download import google_images_download as gi\n",
    "\n",
    "response = gi.googleimagesdownload()\n",
    "#Let's try out one digit to make sure our retrieval method is working properly. \n",
    "## Pass in the various arguments here - note they will be downloaded to download folder \n",
    "# they will need to be moved to the proper training spots\n",
    "\n",
    "arguments = {\n",
    "    \"keywords\" : \"the number six\", \n",
    "    \"limit\" : 100, \n",
    "    \"print_urls\" : False, \n",
    "    \"chromedriver\" : \"E:\\\\chromedriver.exe\"\n",
    "} \n",
    "\n",
    "paths = response.download(arguments)\n",
    "# Clear this output before printing\n",
    "\n",
    "#Now that we know that one works, we'll download the rest of the digits in the same way.\n",
    "\n",
    "digits_list = ['one', 'two', 'three', 'four', 'five', 'six', 'seven', 'eight','nine'];\n",
    "for digit in digits_list:\n",
    "    arguments['keywords'] = 'the number ' + str(digit)\n",
    "    paths = response.download(arguments)\n",
    "\n",
    "# Then we'll have to manually clean the data, then move it to /src/data/digits.  From there, we'll manually split up into training and test data (after we've cleaned up the wrong files as well).\n",
    "\n",
    "### Build the validation set\n",
    "\n",
    "digits_list = ['one', 'two', 'three', 'four', 'five', 'six', 'seven', 'eight','nine'];\n",
    "for digit in digits_list:\n",
    "    arguments['keywords'] = 'number ' + str(digit) + \" clipart\"\n",
    "    paths = response.download(arguments)"
   ]
  },
  {
   "cell_type": "markdown",
   "metadata": {},
   "source": [
    "## Step 1: Building a Number digit Generator"
   ]
  },
  {
   "cell_type": "markdown",
   "metadata": {},
   "source": [
    "So that failed miserably - it will take way too long to download and curate all of those images.  Probably the best thing to do is build some kind of data generated that creates images with various transformations in various fonts."
   ]
  },
  {
   "cell_type": "markdown",
   "metadata": {},
   "source": [
    "List of transforms we want:\n",
    "    - Massive scaling discrepancies (between 0.1 and 2.5)\n",
    "    - Rotations all about - probably between 0-90\n",
    "    - Brightness and contrast moved about between 0-50 %\n",
    "    - Definitely want some kind of noise applied as well\n",
    "    - Different background colours\n",
    "\n",
    "Fonts we want to use:\n",
    "    - Emphasis on the LED fonts\n",
    "    - Can use other ones as well though\n",
    "    \n",
    "Number of examples we want to generate:\n",
    "    - 2000 a piece"
   ]
  },
  {
   "cell_type": "code",
   "execution_count": 10,
   "metadata": {},
   "outputs": [],
   "source": [
    "img = np.zeros((512,512,3), np.uint8)"
   ]
  },
  {
   "cell_type": "code",
   "execution_count": 11,
   "metadata": {},
   "outputs": [
    {
     "data": {
      "text/plain": [
       "<matplotlib.image.AxesImage at 0x27b7bf4d7f0>"
      ]
     },
     "execution_count": 11,
     "metadata": {},
     "output_type": "execute_result"
    },
    {
     "data": {
      "image/png": "[encoded data removed]",
      "text/plain": [
       "<Figure size 432x288 with 1 Axes>"
      ]
     },
     "metadata": {
      "needs_background": "light"
     },
     "output_type": "display_data"
    }
   ],
   "source": [
    "font = cv2.FONT_HERSHEY_SIMPLEX\n",
    "output = cv2.putText(img,'OpenCV',(10,500), font, 4,(255,255,255),2,cv2.LINE_AA)\n",
    "plt.imshow(output)"
   ]
  },
  {
   "cell_type": "code",
   "execution_count": 12,
   "metadata": {},
   "outputs": [],
   "source": [
    "from PIL import ImageFont, ImageDraw, Image"
   ]
  },
  {
   "cell_type": "code",
   "execution_count": 13,
   "metadata": {},
   "outputs": [],
   "source": [
    "img = np.zeros((200,200,3),np.uint8)\n",
    "b,g,r,a = 0,255,255,0\n",
    "fontpath = \"/src/data/digits/fonts/\"\n",
    "font_size=64\n",
    "x_pos = 10\n",
    "y_pos = 100"
   ]
  },
  {
   "cell_type": "code",
   "execution_count": 14,
   "metadata": {},
   "outputs": [],
   "source": [
    "digit = 4"
   ]
  },
  {
   "cell_type": "markdown",
   "metadata": {},
   "source": [
    " - We downloaded a bunch of LED type fonts, since that's what we'll be using for the scale\n",
    " - https://www.dafont.com/theme.php?cat=302"
   ]
  },
  {
   "cell_type": "code",
   "execution_count": 15,
   "metadata": {},
   "outputs": [],
   "source": [
    "font = ImageFont.truetype(fontpath + \"alarm clock.ttf\", font_size)\n",
    "img_pil = Image.fromarray(img)\n",
    "draw = ImageDraw.Draw(img_pil)\n",
    "draw.text((x_pos, y_pos),  str(digit), font = font, fill = (b, g, r, a))\n",
    "img = np.array(img_pil)"
   ]
  },
  {
   "cell_type": "code",
   "execution_count": 16,
   "metadata": {},
   "outputs": [
    {
     "data": {
      "text/plain": [
       "<matplotlib.image.AxesImage at 0x27b7bfb3630>"
      ]
     },
     "execution_count": 16,
     "metadata": {},
     "output_type": "execute_result"
    },
    {
     "data": {
      "image/png": "[encoded data removed]",
      "text/plain": [
       "<Figure size 432x288 with 1 Axes>"
      ]
     },
     "metadata": {
      "needs_background": "light"
     },
     "output_type": "display_data"
    }
   ],
   "source": [
    "plt.imshow(img)"
   ]
  },
  {
   "cell_type": "code",
   "execution_count": null,
   "metadata": {},
   "outputs": [],
   "source": [
    "plt.imsave(\"/src/data/digits/4.jpg\", img)"
   ]
  },
  {
   "cell_type": "markdown",
   "metadata": {},
   "source": [
    "### Create Images"
   ]
  },
  {
   "cell_type": "code",
   "execution_count": 6,
   "metadata": {},
   "outputs": [],
   "source": [
    "from PIL import ImageFont, ImageDraw, Image\n",
    "img = np.zeros((200,200,3),np.uint8)\n",
    "fontpath = \"/src/data/digits/fonts/\"\n"
   ]
  },
  {
   "cell_type": "code",
   "execution_count": 7,
   "metadata": {},
   "outputs": [
    {
     "data": {
      "text/plain": [
       "['alarm clock.ttf',\n",
       " 'Calculator.ttf',\n",
       " 'digital-7 (italic).ttf',\n",
       " 'digital-7 (mono italic).ttf',\n",
       " 'digital-7 (mono).ttf',\n",
       " 'digital-7.ttf',\n",
       " 'DJB Get Digital.ttf',\n",
       " 'Open 24 Display St.ttf',\n",
       " 'Technology-Bold.ttf',\n",
       " 'Technology-BoldItalic.ttf',\n",
       " 'Technology-Italic.ttf',\n",
       " 'Technology.ttf']"
      ]
     },
     "execution_count": 7,
     "metadata": {},
     "output_type": "execute_result"
    }
   ],
   "source": [
    "ttfs_array = os.listdir(fontpath); ttfs_array"
   ]
  },
  {
   "cell_type": "code",
   "execution_count": 8,
   "metadata": {},
   "outputs": [],
   "source": [
    "def rotateImage(image, angle):\n",
    "  image_center = tuple(np.array(image.shape[1::-1]) / 2)\n",
    "  rot_mat = cv2.getRotationMatrix2D(image_center, angle, 1.0)\n",
    "  result = cv2.warpAffine(image, rot_mat, image.shape[1::-1], flags=cv2.INTER_LINEAR)\n",
    "  return result\n",
    "\n",
    "def sp_noise(image,prob):\n",
    "    '''\n",
    "    Add salt and pepper noise to image\n",
    "    prob: Probability of the noise\n",
    "    '''\n",
    "    output = np.zeros(image.shape,np.uint8)\n",
    "    thres = 1 - prob \n",
    "    for i in range(image.shape[0]):\n",
    "        for j in range(image.shape[1]):\n",
    "            rdn = random.random()\n",
    "            if rdn < prob:\n",
    "                output[i][j] = 0\n",
    "            elif rdn > thres:\n",
    "                output[i][j] = 255\n",
    "            else:\n",
    "                output[i][j] = image[i][j]\n",
    "    return output\n",
    "\n",
    "\n",
    "def generate_image(digit):\n",
    "    '''\n",
    "    Generates the image\n",
    "    '''\n",
    "    img = np.zeros((500,500,3),np.uint8)\n",
    "    \n",
    "    r,g,b = img.T\n",
    "    \n",
    "    # This is the background color\n",
    "    g[g == 0] = random.randint(150,255)\n",
    "    g[random.randint(0,200):random.randint(200,500)] = random.randint(150,255)\n",
    "    r[r == 0] = random.randint(150,255)\n",
    "    r[random.randint(0,200):random.randint(200,500)] = random.randint(150,255)\n",
    "    b[b == 0] = random.randint(0,10)\n",
    "    b[random.randint(0,200):random.randint(200,500)] = random.randint(0,10)\n",
    "    \n",
    "    \n",
    "    font_size = random.randint(120,180)\n",
    "    font = ImageFont.truetype(fontpath + ttfs_array[random.randint(0,len(ttfs_array)-1)], \n",
    "                              size=font_size)\n",
    "    \n",
    "    img_pil = Image.fromarray(img)\n",
    "    \n",
    "    draw = ImageDraw.Draw(img_pil)\n",
    "    \n",
    "    # This is the font colour\n",
    "    b = random.randint(0,100)\n",
    "    g = random.randint(0,100)\n",
    "    r = random.randint(0,100)\n",
    "    a = random.randint(0,30)\n",
    "    \n",
    "    x_pos = random.randint(100,200) - font_size/2\n",
    "    y_pos = random.randint(100,200) - font_size/2\n",
    "    \n",
    "    draw.text((x_pos, y_pos),  str(digit), font = font, fill = (b, g, r, a))\n",
    "    img = np.array(img_pil)\n",
    "    img = rotateImage(img, random.randint(-60,60))\n",
    "    \n",
    "    # Added in some Gaussian Blur\n",
    "    img = cv2.GaussianBlur(img,(random.randint(1,11)*2+1,random.randint(1,11)*2+1),0)\n",
    "    \n",
    "    if(random.randint(1,10) > 4):\n",
    "        img = sp_noise(img, 0.05)\n",
    "    #img = cv2.medianBlur(img,5)\n",
    "    return img\n"
   ]
  },
  {
   "cell_type": "code",
   "execution_count": 9,
   "metadata": {
    "scrolled": false
   },
   "outputs": [
    {
     "data": {
      "text/plain": [
       "<matplotlib.image.AxesImage at 0x27b6ec52908>"
      ]
     },
     "execution_count": 9,
     "metadata": {},
     "output_type": "execute_result"
    },
    {
     "data": {
      "image/png": "[encoded data removed]",
      "text/plain": [
       "<Figure size 432x288 with 1 Axes>"
      ]
     },
     "metadata": {
      "needs_background": "light"
     },
     "output_type": "display_data"
    }
   ],
   "source": [
    "img = generate_image(1050)\n",
    "plt.imshow(img)"
   ]
  },
  {
   "cell_type": "code",
   "execution_count": null,
   "metadata": {},
   "outputs": [],
   "source": [
    "'''\n",
    "generated_digits = {\n",
    "    \"1\" : \"one\",\n",
    "    \"2\" : \"two\",\n",
    "    \"3\" : \"three\",\n",
    "    \"4\" : \"four\",\n",
    "    \"5\" : \"five\",\n",
    "    \"6\" : \"six\",\n",
    "    \"7\" : \"seven\",\n",
    "    \"8\" : \"eight\",\n",
    "    \"9\" : \"nine\",\n",
    "    \"0\" : \"zero\"\n",
    "}\n",
    "'''\n",
    "# We have changed this function substantially, when we have changed our approach\n",
    "'''\n",
    "def generate_images(save_path, total_number):\n",
    "    for digit in generated_digits.keys():\n",
    "        count = 0\n",
    "        for i in range(0,total_number):\n",
    "            img = generate_image(digit)\n",
    "            plt.imsave(save_path + generated_digits[digit] + \"_\" + str(count) + \".jpg\", img)\n",
    "            \n",
    "            count += 1\n",
    "        print (\"Finished with \" + str(digit))\n",
    "\n",
    "'''\n",
    "\n",
    "# This is the new function that we are generating for our regression attempt"
   ]
  },
  {
   "cell_type": "code",
   "execution_count": null,
   "metadata": {},
   "outputs": [],
   "source": [
    "from ipywidgets import IntProgress\n",
    "from IPython.display import display\n",
    "import time"
   ]
  },
  {
   "cell_type": "code",
   "execution_count": 18,
   "metadata": {},
   "outputs": [],
   "source": [
    "generated_count = 200"
   ]
  },
  {
   "cell_type": "code",
   "execution_count": null,
   "metadata": {},
   "outputs": [],
   "source": [
    "def generate_images(save_path):\n",
    "    \n",
    "    max_count = 2500\n",
    "    min_count = 1000\n",
    "    \n",
    "    f = IntProgress(min=0, max=(max_count-min_count), description=\"Generating: \") # instantiate the bar\n",
    "    display(f) # display the bar\n",
    "    csv_output = \"fn,val\\r\\n\"\n",
    "    for i in range(min_count,max_count):\n",
    "        count = 0\n",
    "        for j in range(0,generated_count): # TODO: Change this to larger once proven\n",
    "            img = generate_image(i)\n",
    "            plt.imsave(save_path + str(i) + \"_\" + str(count) + \".jpg\", img)\n",
    "            #csv_output += save_path + str(i) + \"_\" + str(count) + \".jpg\" + \",\" + str(i) + \"\\r\\n\" \n",
    "            csv_output += save_path + str(i) + \"_\" + str(count) + \".jpg\" + \",\"  \n",
    "            csv_output += str(i)[0] + \" \" + str(i)[1] + \" \" + str(i)[2] +  \" \" + str(i)[3] + \"\\r\\n\" \n",
    "             \n",
    "            count += 1\n",
    "        f.value += 1\n",
    "            \n",
    "        #print (\"Finished for \" + str(i))\n",
    "    f = open(save_path + \"regression.csv\",'w')\n",
    "    f.write(csv_output)\n",
    "    f.close()\n",
    "    print (\"Finished writing\")\n"
   ]
  },
  {
   "cell_type": "markdown",
   "metadata": {},
   "source": [
    "Many images generation time - this takes a VERY long time."
   ]
  },
  {
   "cell_type": "code",
   "execution_count": null,
   "metadata": {
    "scrolled": false
   },
   "outputs": [],
   "source": [
    "save_path = \"/src/data/digits/regression/\"\n",
    "generate_images(save_path)"
   ]
  },
  {
   "cell_type": "markdown",
   "metadata": {},
   "source": [
    "## Step 2 - Regression model"
   ]
  },
  {
   "cell_type": "markdown",
   "metadata": {},
   "source": [
    "Our first attempt was to train a multiclass classifier to identify the digits.  It did okay at that, but started to get confused.  Then I realized, why not train it to do the thing I actually want it to do - regression.\n",
    "\n",
    "So instead of teaching it to recognize digits (which it did okay at), I want to try a regression model to actually learn something of value\n",
    "\n",
    "--------------"
   ]
  },
  {
   "cell_type": "code",
   "execution_count": 19,
   "metadata": {
    "scrolled": true
   },
   "outputs": [],
   "source": [
    "#f_model=resnet34\n",
    "f_model = resnet18\n",
    "sz=224  \n",
    "bs=64 # Changed from 64 - will try 128\n",
    "n = 1500 * generated_count # Number of entries we have now"
   ]
  },
  {
   "cell_type": "code",
   "execution_count": 20,
   "metadata": {},
   "outputs": [],
   "source": [
    "tfms = tfms_from_model(f_model, sz, crop_type=CropType.NO, tfm_y=TfmType.NO)\n"
   ]
  },
  {
   "cell_type": "code",
   "execution_count": 21,
   "metadata": {
    "scrolled": true
   },
   "outputs": [
    {
     "data": {
      "text/html": [
       "<div>\n",
       "<style scoped>\n",
       "    .dataframe tbody tr th:only-of-type {\n",
       "        vertical-align: middle;\n",
       "    }\n",
       "\n",
       "    .dataframe tbody tr th {\n",
       "        vertical-align: top;\n",
       "    }\n",
       "\n",
       "    .dataframe thead th {\n",
       "        text-align: right;\n",
       "    }\n",
       "</style>\n",
       "<table border=\"1\" class=\"dataframe\">\n",
       "  <thead>\n",
       "    <tr style=\"text-align: right;\">\n",
       "      <th></th>\n",
       "      <th>fn</th>\n",
       "      <th>val</th>\n",
       "    </tr>\n",
       "  </thead>\n",
       "  <tbody>\n",
       "    <tr>\n",
       "      <th>0</th>\n",
       "      <td>1000_0</td>\n",
       "      <td>1 0 0 0</td>\n",
       "    </tr>\n",
       "    <tr>\n",
       "      <th>1</th>\n",
       "      <td>1000_1</td>\n",
       "      <td>1 0 0 0</td>\n",
       "    </tr>\n",
       "    <tr>\n",
       "      <th>2</th>\n",
       "      <td>1000_2</td>\n",
       "      <td>1 0 0 0</td>\n",
       "    </tr>\n",
       "    <tr>\n",
       "      <th>3</th>\n",
       "      <td>1000_3</td>\n",
       "      <td>1 0 0 0</td>\n",
       "    </tr>\n",
       "    <tr>\n",
       "      <th>4</th>\n",
       "      <td>1000_4</td>\n",
       "      <td>1 0 0 0</td>\n",
       "    </tr>\n",
       "  </tbody>\n",
       "</table>\n",
       "</div>"
      ],
      "text/plain": [
       "       fn      val\n",
       "0  1000_0  1 0 0 0\n",
       "1  1000_1  1 0 0 0\n",
       "2  1000_2  1 0 0 0\n",
       "3  1000_3  1 0 0 0\n",
       "4  1000_4  1 0 0 0"
      ]
     },
     "execution_count": 21,
     "metadata": {},
     "output_type": "execute_result"
    }
   ],
   "source": [
    "pd.read_csv(PATH + \"/regression_newer.csv\").head()"
   ]
  },
  {
   "cell_type": "markdown",
   "metadata": {},
   "source": [
    "We're going to move all of the \\_0.jpg files out to test and then modify the csv file"
   ]
  },
  {
   "cell_type": "code",
   "execution_count": 22,
   "metadata": {},
   "outputs": [],
   "source": [
    "val_idx = get_cv_idxs(n)"
   ]
  },
  {
   "cell_type": "markdown",
   "metadata": {},
   "source": [
    "We'll want to work with the transforms at a later date"
   ]
  },
  {
   "cell_type": "code",
   "execution_count": 23,
   "metadata": {},
   "outputs": [],
   "source": [
    "md = ImageClassifierData.from_csv(PATH, \n",
    "                                  \"regression/\", \n",
    "                                  PATH + \"/regression_newer.csv\", \n",
    "                                  tfms=tfms, \n",
    "                                  suffix = \".jpg\",\n",
    "                                  # test_name = \"test\", # This I believe is only for TTA \n",
    "                                  val_idxs=val_idx,\n",
    "                                  continuous=True, \n",
    "                                  skip_header = True,\n",
    "                                  bs=bs)\n",
    "\n",
    "# We really ought to consider doing a test folder"
   ]
  },
  {
   "cell_type": "code",
   "execution_count": 24,
   "metadata": {},
   "outputs": [],
   "source": [
    "class MSELossFlat(nn.MSELoss): \n",
    "    '''\n",
    "    Same as `nn.MSELoss`, but flattens input and target.\n",
    "    This proved extremely valuable since I want to minimize the loss of ALL entries\n",
    "    Maybe I should have weighted the left most digit as 100x more important...\n",
    "    '''\n",
    "    def forward(self, input, target):\n",
    "        return super().forward(input.view(-1), target.view(-1))"
   ]
  },
  {
   "cell_type": "code",
   "execution_count": 25,
   "metadata": {},
   "outputs": [],
   "source": [
    "head_reg4 = nn.Sequential(Flatten(), nn.Linear(25088,4))  # What is this 25088 thing here? 112 * 224\n",
    "learn = ConvLearner.pretrained(f_model, md, custom_head=head_reg4)\n",
    "learn.opt_fn = optim.Adam # Is Adam the proper optimizer here?\n",
    "#learn.crit = nn.L1Loss() # TODO - Not convinced L1 Loss is the best here - maybe L2 or MSE?\n",
    "learn.crit = MSELossFlat() # Changing over to MSE, then MSELossFlat which flattens (better for what I want)"
   ]
  },
  {
   "cell_type": "markdown",
   "metadata": {},
   "source": [
    "Need to modify this architecture, since we're trying regression instead of classification"
   ]
  },
  {
   "cell_type": "code",
   "execution_count": 26,
   "metadata": {},
   "outputs": [
    {
     "data": {
      "text/plain": [
       "OrderedDict([('Conv2d-1',\n",
       "              OrderedDict([('input_shape', [-1, 3, 224, 224]),\n",
       "                           ('output_shape', [-1, 64, 112, 112]),\n",
       "                           ('trainable', False),\n",
       "                           ('nb_params', tensor(9408))])),\n",
       "             ('BatchNorm2d-2',\n",
       "              OrderedDict([('input_shape', [-1, 64, 112, 112]),\n",
       "                           ('output_shape', [-1, 64, 112, 112]),\n",
       "                           ('trainable', False),\n",
       "                           ('nb_params', tensor(128))])),\n",
       "             ('ReLU-3',\n",
       "              OrderedDict([('input_shape', [-1, 64, 112, 112]),\n",
       "                           ('output_shape', [-1, 64, 112, 112]),\n",
       "                           ('nb_params', 0)])),\n",
       "             ('MaxPool2d-4',\n",
       "              OrderedDict([('input_shape', [-1, 64, 112, 112]),\n",
       "                           ('output_shape', [-1, 64, 56, 56]),\n",
       "                           ('nb_params', 0)])),\n",
       "             ('Conv2d-5',\n",
       "              OrderedDict([('input_shape', [-1, 64, 56, 56]),\n",
       "                           ('output_shape', [-1, 64, 56, 56]),\n",
       "                           ('trainable', False),\n",
       "                           ('nb_params', tensor(36864))])),\n",
       "             ('BatchNorm2d-6',\n",
       "              OrderedDict([('input_shape', [-1, 64, 56, 56]),\n",
       "                           ('output_shape', [-1, 64, 56, 56]),\n",
       "                           ('trainable', False),\n",
       "                           ('nb_params', tensor(128))])),\n",
       "             ('ReLU-7',\n",
       "              OrderedDict([('input_shape', [-1, 64, 56, 56]),\n",
       "                           ('output_shape', [-1, 64, 56, 56]),\n",
       "                           ('nb_params', 0)])),\n",
       "             ('Conv2d-8',\n",
       "              OrderedDict([('input_shape', [-1, 64, 56, 56]),\n",
       "                           ('output_shape', [-1, 64, 56, 56]),\n",
       "                           ('trainable', False),\n",
       "                           ('nb_params', tensor(36864))])),\n",
       "             ('BatchNorm2d-9',\n",
       "              OrderedDict([('input_shape', [-1, 64, 56, 56]),\n",
       "                           ('output_shape', [-1, 64, 56, 56]),\n",
       "                           ('trainable', False),\n",
       "                           ('nb_params', tensor(128))])),\n",
       "             ('ReLU-10',\n",
       "              OrderedDict([('input_shape', [-1, 64, 56, 56]),\n",
       "                           ('output_shape', [-1, 64, 56, 56]),\n",
       "                           ('nb_params', 0)])),\n",
       "             ('BasicBlock-11',\n",
       "              OrderedDict([('input_shape', [-1, 64, 56, 56]),\n",
       "                           ('output_shape', [-1, 64, 56, 56]),\n",
       "                           ('nb_params', 0)])),\n",
       "             ('Conv2d-12',\n",
       "              OrderedDict([('input_shape', [-1, 64, 56, 56]),\n",
       "                           ('output_shape', [-1, 64, 56, 56]),\n",
       "                           ('trainable', False),\n",
       "                           ('nb_params', tensor(36864))])),\n",
       "             ('BatchNorm2d-13',\n",
       "              OrderedDict([('input_shape', [-1, 64, 56, 56]),\n",
       "                           ('output_shape', [-1, 64, 56, 56]),\n",
       "                           ('trainable', False),\n",
       "                           ('nb_params', tensor(128))])),\n",
       "             ('ReLU-14',\n",
       "              OrderedDict([('input_shape', [-1, 64, 56, 56]),\n",
       "                           ('output_shape', [-1, 64, 56, 56]),\n",
       "                           ('nb_params', 0)])),\n",
       "             ('Conv2d-15',\n",
       "              OrderedDict([('input_shape', [-1, 64, 56, 56]),\n",
       "                           ('output_shape', [-1, 64, 56, 56]),\n",
       "                           ('trainable', False),\n",
       "                           ('nb_params', tensor(36864))])),\n",
       "             ('BatchNorm2d-16',\n",
       "              OrderedDict([('input_shape', [-1, 64, 56, 56]),\n",
       "                           ('output_shape', [-1, 64, 56, 56]),\n",
       "                           ('trainable', False),\n",
       "                           ('nb_params', tensor(128))])),\n",
       "             ('ReLU-17',\n",
       "              OrderedDict([('input_shape', [-1, 64, 56, 56]),\n",
       "                           ('output_shape', [-1, 64, 56, 56]),\n",
       "                           ('nb_params', 0)])),\n",
       "             ('BasicBlock-18',\n",
       "              OrderedDict([('input_shape', [-1, 64, 56, 56]),\n",
       "                           ('output_shape', [-1, 64, 56, 56]),\n",
       "                           ('nb_params', 0)])),\n",
       "             ('Conv2d-19',\n",
       "              OrderedDict([('input_shape', [-1, 64, 56, 56]),\n",
       "                           ('output_shape', [-1, 128, 28, 28]),\n",
       "                           ('trainable', False),\n",
       "                           ('nb_params', tensor(73728))])),\n",
       "             ('BatchNorm2d-20',\n",
       "              OrderedDict([('input_shape', [-1, 128, 28, 28]),\n",
       "                           ('output_shape', [-1, 128, 28, 28]),\n",
       "                           ('trainable', False),\n",
       "                           ('nb_params', tensor(256))])),\n",
       "             ('ReLU-21',\n",
       "              OrderedDict([('input_shape', [-1, 128, 28, 28]),\n",
       "                           ('output_shape', [-1, 128, 28, 28]),\n",
       "                           ('nb_params', 0)])),\n",
       "             ('Conv2d-22',\n",
       "              OrderedDict([('input_shape', [-1, 128, 28, 28]),\n",
       "                           ('output_shape', [-1, 128, 28, 28]),\n",
       "                           ('trainable', False),\n",
       "                           ('nb_params', tensor(147456))])),\n",
       "             ('BatchNorm2d-23',\n",
       "              OrderedDict([('input_shape', [-1, 128, 28, 28]),\n",
       "                           ('output_shape', [-1, 128, 28, 28]),\n",
       "                           ('trainable', False),\n",
       "                           ('nb_params', tensor(256))])),\n",
       "             ('Conv2d-24',\n",
       "              OrderedDict([('input_shape', [-1, 64, 56, 56]),\n",
       "                           ('output_shape', [-1, 128, 28, 28]),\n",
       "                           ('trainable', False),\n",
       "                           ('nb_params', tensor(8192))])),\n",
       "             ('BatchNorm2d-25',\n",
       "              OrderedDict([('input_shape', [-1, 128, 28, 28]),\n",
       "                           ('output_shape', [-1, 128, 28, 28]),\n",
       "                           ('trainable', False),\n",
       "                           ('nb_params', tensor(256))])),\n",
       "             ('ReLU-26',\n",
       "              OrderedDict([('input_shape', [-1, 128, 28, 28]),\n",
       "                           ('output_shape', [-1, 128, 28, 28]),\n",
       "                           ('nb_params', 0)])),\n",
       "             ('BasicBlock-27',\n",
       "              OrderedDict([('input_shape', [-1, 64, 56, 56]),\n",
       "                           ('output_shape', [-1, 128, 28, 28]),\n",
       "                           ('nb_params', 0)])),\n",
       "             ('Conv2d-28',\n",
       "              OrderedDict([('input_shape', [-1, 128, 28, 28]),\n",
       "                           ('output_shape', [-1, 128, 28, 28]),\n",
       "                           ('trainable', False),\n",
       "                           ('nb_params', tensor(147456))])),\n",
       "             ('BatchNorm2d-29',\n",
       "              OrderedDict([('input_shape', [-1, 128, 28, 28]),\n",
       "                           ('output_shape', [-1, 128, 28, 28]),\n",
       "                           ('trainable', False),\n",
       "                           ('nb_params', tensor(256))])),\n",
       "             ('ReLU-30',\n",
       "              OrderedDict([('input_shape', [-1, 128, 28, 28]),\n",
       "                           ('output_shape', [-1, 128, 28, 28]),\n",
       "                           ('nb_params', 0)])),\n",
       "             ('Conv2d-31',\n",
       "              OrderedDict([('input_shape', [-1, 128, 28, 28]),\n",
       "                           ('output_shape', [-1, 128, 28, 28]),\n",
       "                           ('trainable', False),\n",
       "                           ('nb_params', tensor(147456))])),\n",
       "             ('BatchNorm2d-32',\n",
       "              OrderedDict([('input_shape', [-1, 128, 28, 28]),\n",
       "                           ('output_shape', [-1, 128, 28, 28]),\n",
       "                           ('trainable', False),\n",
       "                           ('nb_params', tensor(256))])),\n",
       "             ('ReLU-33',\n",
       "              OrderedDict([('input_shape', [-1, 128, 28, 28]),\n",
       "                           ('output_shape', [-1, 128, 28, 28]),\n",
       "                           ('nb_params', 0)])),\n",
       "             ('BasicBlock-34',\n",
       "              OrderedDict([('input_shape', [-1, 128, 28, 28]),\n",
       "                           ('output_shape', [-1, 128, 28, 28]),\n",
       "                           ('nb_params', 0)])),\n",
       "             ('Conv2d-35',\n",
       "              OrderedDict([('input_shape', [-1, 128, 28, 28]),\n",
       "                           ('output_shape', [-1, 256, 14, 14]),\n",
       "                           ('trainable', False),\n",
       "                           ('nb_params', tensor(294912))])),\n",
       "             ('BatchNorm2d-36',\n",
       "              OrderedDict([('input_shape', [-1, 256, 14, 14]),\n",
       "                           ('output_shape', [-1, 256, 14, 14]),\n",
       "                           ('trainable', False),\n",
       "                           ('nb_params', tensor(512))])),\n",
       "             ('ReLU-37',\n",
       "              OrderedDict([('input_shape', [-1, 256, 14, 14]),\n",
       "                           ('output_shape', [-1, 256, 14, 14]),\n",
       "                           ('nb_params', 0)])),\n",
       "             ('Conv2d-38',\n",
       "              OrderedDict([('input_shape', [-1, 256, 14, 14]),\n",
       "                           ('output_shape', [-1, 256, 14, 14]),\n",
       "                           ('trainable', False),\n",
       "                           ('nb_params', tensor(589824))])),\n",
       "             ('BatchNorm2d-39',\n",
       "              OrderedDict([('input_shape', [-1, 256, 14, 14]),\n",
       "                           ('output_shape', [-1, 256, 14, 14]),\n",
       "                           ('trainable', False),\n",
       "                           ('nb_params', tensor(512))])),\n",
       "             ('Conv2d-40',\n",
       "              OrderedDict([('input_shape', [-1, 128, 28, 28]),\n",
       "                           ('output_shape', [-1, 256, 14, 14]),\n",
       "                           ('trainable', False),\n",
       "                           ('nb_params', tensor(32768))])),\n",
       "             ('BatchNorm2d-41',\n",
       "              OrderedDict([('input_shape', [-1, 256, 14, 14]),\n",
       "                           ('output_shape', [-1, 256, 14, 14]),\n",
       "                           ('trainable', False),\n",
       "                           ('nb_params', tensor(512))])),\n",
       "             ('ReLU-42',\n",
       "              OrderedDict([('input_shape', [-1, 256, 14, 14]),\n",
       "                           ('output_shape', [-1, 256, 14, 14]),\n",
       "                           ('nb_params', 0)])),\n",
       "             ('BasicBlock-43',\n",
       "              OrderedDict([('input_shape', [-1, 128, 28, 28]),\n",
       "                           ('output_shape', [-1, 256, 14, 14]),\n",
       "                           ('nb_params', 0)])),\n",
       "             ('Conv2d-44',\n",
       "              OrderedDict([('input_shape', [-1, 256, 14, 14]),\n",
       "                           ('output_shape', [-1, 256, 14, 14]),\n",
       "                           ('trainable', False),\n",
       "                           ('nb_params', tensor(589824))])),\n",
       "             ('BatchNorm2d-45',\n",
       "              OrderedDict([('input_shape', [-1, 256, 14, 14]),\n",
       "                           ('output_shape', [-1, 256, 14, 14]),\n",
       "                           ('trainable', False),\n",
       "                           ('nb_params', tensor(512))])),\n",
       "             ('ReLU-46',\n",
       "              OrderedDict([('input_shape', [-1, 256, 14, 14]),\n",
       "                           ('output_shape', [-1, 256, 14, 14]),\n",
       "                           ('nb_params', 0)])),\n",
       "             ('Conv2d-47',\n",
       "              OrderedDict([('input_shape', [-1, 256, 14, 14]),\n",
       "                           ('output_shape', [-1, 256, 14, 14]),\n",
       "                           ('trainable', False),\n",
       "                           ('nb_params', tensor(589824))])),\n",
       "             ('BatchNorm2d-48',\n",
       "              OrderedDict([('input_shape', [-1, 256, 14, 14]),\n",
       "                           ('output_shape', [-1, 256, 14, 14]),\n",
       "                           ('trainable', False),\n",
       "                           ('nb_params', tensor(512))])),\n",
       "             ('ReLU-49',\n",
       "              OrderedDict([('input_shape', [-1, 256, 14, 14]),\n",
       "                           ('output_shape', [-1, 256, 14, 14]),\n",
       "                           ('nb_params', 0)])),\n",
       "             ('BasicBlock-50',\n",
       "              OrderedDict([('input_shape', [-1, 256, 14, 14]),\n",
       "                           ('output_shape', [-1, 256, 14, 14]),\n",
       "                           ('nb_params', 0)])),\n",
       "             ('Conv2d-51',\n",
       "              OrderedDict([('input_shape', [-1, 256, 14, 14]),\n",
       "                           ('output_shape', [-1, 512, 7, 7]),\n",
       "                           ('trainable', False),\n",
       "                           ('nb_params', tensor(1179648))])),\n",
       "             ('BatchNorm2d-52',\n",
       "              OrderedDict([('input_shape', [-1, 512, 7, 7]),\n",
       "                           ('output_shape', [-1, 512, 7, 7]),\n",
       "                           ('trainable', False),\n",
       "                           ('nb_params', tensor(1024))])),\n",
       "             ('ReLU-53',\n",
       "              OrderedDict([('input_shape', [-1, 512, 7, 7]),\n",
       "                           ('output_shape', [-1, 512, 7, 7]),\n",
       "                           ('nb_params', 0)])),\n",
       "             ('Conv2d-54',\n",
       "              OrderedDict([('input_shape', [-1, 512, 7, 7]),\n",
       "                           ('output_shape', [-1, 512, 7, 7]),\n",
       "                           ('trainable', False),\n",
       "                           ('nb_params', tensor(2359296))])),\n",
       "             ('BatchNorm2d-55',\n",
       "              OrderedDict([('input_shape', [-1, 512, 7, 7]),\n",
       "                           ('output_shape', [-1, 512, 7, 7]),\n",
       "                           ('trainable', False),\n",
       "                           ('nb_params', tensor(1024))])),\n",
       "             ('Conv2d-56',\n",
       "              OrderedDict([('input_shape', [-1, 256, 14, 14]),\n",
       "                           ('output_shape', [-1, 512, 7, 7]),\n",
       "                           ('trainable', False),\n",
       "                           ('nb_params', tensor(131072))])),\n",
       "             ('BatchNorm2d-57',\n",
       "              OrderedDict([('input_shape', [-1, 512, 7, 7]),\n",
       "                           ('output_shape', [-1, 512, 7, 7]),\n",
       "                           ('trainable', False),\n",
       "                           ('nb_params', tensor(1024))])),\n",
       "             ('ReLU-58',\n",
       "              OrderedDict([('input_shape', [-1, 512, 7, 7]),\n",
       "                           ('output_shape', [-1, 512, 7, 7]),\n",
       "                           ('nb_params', 0)])),\n",
       "             ('BasicBlock-59',\n",
       "              OrderedDict([('input_shape', [-1, 256, 14, 14]),\n",
       "                           ('output_shape', [-1, 512, 7, 7]),\n",
       "                           ('nb_params', 0)])),\n",
       "             ('Conv2d-60',\n",
       "              OrderedDict([('input_shape', [-1, 512, 7, 7]),\n",
       "                           ('output_shape', [-1, 512, 7, 7]),\n",
       "                           ('trainable', False),\n",
       "                           ('nb_params', tensor(2359296))])),\n",
       "             ('BatchNorm2d-61',\n",
       "              OrderedDict([('input_shape', [-1, 512, 7, 7]),\n",
       "                           ('output_shape', [-1, 512, 7, 7]),\n",
       "                           ('trainable', False),\n",
       "                           ('nb_params', tensor(1024))])),\n",
       "             ('ReLU-62',\n",
       "              OrderedDict([('input_shape', [-1, 512, 7, 7]),\n",
       "                           ('output_shape', [-1, 512, 7, 7]),\n",
       "                           ('nb_params', 0)])),\n",
       "             ('Conv2d-63',\n",
       "              OrderedDict([('input_shape', [-1, 512, 7, 7]),\n",
       "                           ('output_shape', [-1, 512, 7, 7]),\n",
       "                           ('trainable', False),\n",
       "                           ('nb_params', tensor(2359296))])),\n",
       "             ('BatchNorm2d-64',\n",
       "              OrderedDict([('input_shape', [-1, 512, 7, 7]),\n",
       "                           ('output_shape', [-1, 512, 7, 7]),\n",
       "                           ('trainable', False),\n",
       "                           ('nb_params', tensor(1024))])),\n",
       "             ('ReLU-65',\n",
       "              OrderedDict([('input_shape', [-1, 512, 7, 7]),\n",
       "                           ('output_shape', [-1, 512, 7, 7]),\n",
       "                           ('nb_params', 0)])),\n",
       "             ('BasicBlock-66',\n",
       "              OrderedDict([('input_shape', [-1, 512, 7, 7]),\n",
       "                           ('output_shape', [-1, 512, 7, 7]),\n",
       "                           ('nb_params', 0)])),\n",
       "             ('Flatten-67',\n",
       "              OrderedDict([('input_shape', [-1, 512, 7, 7]),\n",
       "                           ('output_shape', [-1, 25088]),\n",
       "                           ('nb_params', 0)])),\n",
       "             ('Linear-68',\n",
       "              OrderedDict([('input_shape', [-1, 25088]),\n",
       "                           ('output_shape', [-1, 4]),\n",
       "                           ('trainable', True),\n",
       "                           ('nb_params', tensor(100356))]))])"
      ]
     },
     "execution_count": 26,
     "metadata": {},
     "output_type": "execute_result"
    }
   ],
   "source": [
    "learn.summary()"
   ]
  },
  {
   "cell_type": "code",
   "execution_count": 27,
   "metadata": {},
   "outputs": [
    {
     "data": {
      "text/plain": [
       "True"
      ]
     },
     "execution_count": 27,
     "metadata": {},
     "output_type": "execute_result"
    }
   ],
   "source": [
    "learn.data.is_reg()"
   ]
  },
  {
   "cell_type": "code",
   "execution_count": 28,
   "metadata": {},
   "outputs": [],
   "source": [
    "torch.cuda.set_device(0)"
   ]
  },
  {
   "cell_type": "code",
   "execution_count": 29,
   "metadata": {
    "scrolled": true
   },
   "outputs": [
    {
     "data": {
      "application/vnd.jupyter.widget-view+json": {
       "model_id": "ab497ae144004efcbd68aaf513175eb0",
       "version_major": 2,
       "version_minor": 0
      },
      "text/plain": [
       "HBox(children=(IntProgress(value=0, description='Epoch', max=1), HTML(value='')))"
      ]
     },
     "metadata": {},
     "output_type": "display_data"
    },
    {
     "name": "stdout",
     "output_type": "stream",
     "text": [
      " 34%|███▍      | 1289/3750 [34:57<2:32:02,  3.71s/it, loss=24.4]"
     ]
    },
    {
     "data": {
      "image/png": "[encoded data removed]",
      "text/plain": [
       "<Figure size 432x288 with 1 Axes>"
      ]
     },
     "metadata": {
      "needs_background": "light"
     },
     "output_type": "display_data"
    }
   ],
   "source": [
    "learn.lr_find(1e-5,100)\n",
    "learn.sched.plot(5)"
   ]
  },
  {
   "cell_type": "markdown",
   "metadata": {},
   "source": [
    "This seems a good value given the graph above (right in the middle before it starts increasing wildly)."
   ]
  },
  {
   "cell_type": "code",
   "execution_count": 30,
   "metadata": {},
   "outputs": [],
   "source": [
    "lr = 3e-4"
   ]
  },
  {
   "cell_type": "code",
   "execution_count": 31,
   "metadata": {},
   "outputs": [],
   "source": [
    "learn.unfreeze() # This may or may not be a good idea"
   ]
  },
  {
   "cell_type": "code",
   "execution_count": 32,
   "metadata": {
    "scrolled": true
   },
   "outputs": [
    {
     "data": {
      "application/vnd.jupyter.widget-view+json": {
       "model_id": "f900504ee8964d099c29da72dfd8fbd4",
       "version_major": 2,
       "version_minor": 0
      },
      "text/plain": [
       "HBox(children=(IntProgress(value=0, description='Epoch', max=3), HTML(value='')))"
      ]
     },
     "metadata": {},
     "output_type": "display_data"
    },
    {
     "name": "stdout",
     "output_type": "stream",
     "text": [
      "epoch      trn_loss   val_loss                                      \n",
      "    0      0.065641   0.053871  \n",
      "    1      0.053848   0.072309                                      \n",
      "    2      0.023318   0.020639                                      \n"
     ]
    },
    {
     "data": {
      "text/plain": [
       "[0.02063905619382858]"
      ]
     },
     "execution_count": 32,
     "metadata": {},
     "output_type": "execute_result"
    }
   ],
   "source": [
    "learn.fit(lr, 2, cycle_len=1, cycle_mult=2)"
   ]
  },
  {
   "cell_type": "code",
   "execution_count": 33,
   "metadata": {},
   "outputs": [],
   "source": [
    "learn.save(\"regression-1\" + VERSION)"
   ]
  },
  {
   "cell_type": "code",
   "execution_count": 34,
   "metadata": {},
   "outputs": [],
   "source": [
    "learn.load(\"regression-1\" + VERSION)"
   ]
  },
  {
   "cell_type": "markdown",
   "metadata": {},
   "source": [
    "----------------------\n",
    "## Given the amount of data we have, the next steps are probably unnecessary"
   ]
  },
  {
   "cell_type": "markdown",
   "metadata": {},
   "source": [
    "I am actually wrong here.  I haven't taught a very good deep model - I've just taught the (granted massive) training set.  What I actually need is a good model, not just good accuracies/loss.\n",
    "\n",
    "I was led astray by the good accuracies/loss, but in reality, I had only trained the lower layers (and probably overfit - even on validation)."
   ]
  },
  {
   "cell_type": "markdown",
   "metadata": {},
   "source": [
    "I think there's a real chance I'm trying to be too cute - this isn't a terribly difficult task to be honest.  Probably just throwing a standard learner with a standard learning rate would work well here."
   ]
  },
  {
   "cell_type": "code",
   "execution_count": null,
   "metadata": {},
   "outputs": [],
   "source": [
    "lrs = np.array([lr/10,lr,lr*2])"
   ]
  },
  {
   "cell_type": "code",
   "execution_count": null,
   "metadata": {},
   "outputs": [],
   "source": [
    "learn.freeze_to(-2)"
   ]
  },
  {
   "cell_type": "code",
   "execution_count": null,
   "metadata": {},
   "outputs": [],
   "source": [
    "lrf=learn.lr_find(lrs)\n",
    "learn.sched.plot(1)"
   ]
  },
  {
   "cell_type": "code",
   "execution_count": null,
   "metadata": {
    "scrolled": true
   },
   "outputs": [],
   "source": [
    "learn.fit(lrs, 5, cycle_len=1)"
   ]
  },
  {
   "cell_type": "code",
   "execution_count": null,
   "metadata": {},
   "outputs": [],
   "source": [
    "learn.save(\"regression-2-a\" + VERSION)"
   ]
  },
  {
   "cell_type": "code",
   "execution_count": null,
   "metadata": {},
   "outputs": [],
   "source": [
    "learn.load(\"regression-2-a\" + VERSION)"
   ]
  },
  {
   "cell_type": "code",
   "execution_count": null,
   "metadata": {},
   "outputs": [],
   "source": [
    "learn.freeze_to(-6)"
   ]
  },
  {
   "cell_type": "code",
   "execution_count": null,
   "metadata": {
    "scrolled": true
   },
   "outputs": [],
   "source": [
    "learn.fit(lrs, 5, cycle_len=1)"
   ]
  },
  {
   "cell_type": "code",
   "execution_count": null,
   "metadata": {},
   "outputs": [],
   "source": [
    "learn.save(\"regression-3\" + VERSION)"
   ]
  },
  {
   "cell_type": "code",
   "execution_count": null,
   "metadata": {},
   "outputs": [],
   "source": [
    "learn.load(\"regression-3\" + VERSION)"
   ]
  },
  {
   "cell_type": "code",
   "execution_count": null,
   "metadata": {},
   "outputs": [],
   "source": [
    "learn.unfreeze()"
   ]
  },
  {
   "cell_type": "code",
   "execution_count": null,
   "metadata": {},
   "outputs": [],
   "source": [
    "learn.fit(lrs, 5, cycle_len=2)"
   ]
  },
  {
   "cell_type": "code",
   "execution_count": null,
   "metadata": {},
   "outputs": [],
   "source": [
    "learn.save(\"regression-4\" + VERSION)"
   ]
  },
  {
   "cell_type": "code",
   "execution_count": null,
   "metadata": {
    "scrolled": true
   },
   "outputs": [],
   "source": [
    "learn.load(\"regression-4\" + VERSION)"
   ]
  },
  {
   "cell_type": "markdown",
   "metadata": {},
   "source": [
    "### Spot check to make sure all is well"
   ]
  },
  {
   "cell_type": "code",
   "execution_count": 43,
   "metadata": {},
   "outputs": [],
   "source": [
    "x,y = md.val_dl.get_batch([0,1,2])"
   ]
  },
  {
   "cell_type": "code",
   "execution_count": 44,
   "metadata": {},
   "outputs": [],
   "source": [
    "#x,y = next(iter(md.val_dl))\n",
    "learn.model.eval()\n",
    "preds = to_np(learn.model(VV(x)))"
   ]
  },
  {
   "cell_type": "code",
   "execution_count": 47,
   "metadata": {},
   "outputs": [],
   "source": [
    "pred = random.randint(1,3)"
   ]
  },
  {
   "cell_type": "code",
   "execution_count": 48,
   "metadata": {},
   "outputs": [
    {
     "data": {
      "text/plain": [
       "<matplotlib.image.AxesImage at 0x27b1c08bda0>"
      ]
     },
     "execution_count": 48,
     "metadata": {},
     "output_type": "execute_result"
    },
    {
     "data": {
      "image/png": "[encoded data removed]",
      "text/plain": [
       "<Figure size 432x288 with 1 Axes>"
      ]
     },
     "metadata": {
      "needs_background": "light"
     },
     "output_type": "display_data"
    }
   ],
   "source": [
    "plt.imshow(md.val_ds.denorm(to_np(x))[pred])"
   ]
  },
  {
   "cell_type": "code",
   "execution_count": 49,
   "metadata": {},
   "outputs": [
    {
     "data": {
      "text/plain": [
       "array([1.0359 , 0.04464, 0.12112, 0.00726], dtype=float32)"
      ]
     },
     "execution_count": 49,
     "metadata": {},
     "output_type": "execute_result"
    }
   ],
   "source": [
    "preds[pred]"
   ]
  },
  {
   "cell_type": "code",
   "execution_count": 50,
   "metadata": {
    "scrolled": false
   },
   "outputs": [
    {
     "data": {
      "text/plain": [
       "[1, 0, 0, 0]"
      ]
     },
     "execution_count": 50,
     "metadata": {},
     "output_type": "execute_result"
    }
   ],
   "source": [
    "[round(float(preds[pred][i])) for i in range(0,4)]"
   ]
  },
  {
   "cell_type": "markdown",
   "metadata": {},
   "source": [
    "So our model seems to be predicting that reasonably well (after rounding).  On to some real data!"
   ]
  },
  {
   "cell_type": "markdown",
   "metadata": {},
   "source": [
    "## Step 3: Trying on a real photo"
   ]
  },
  {
   "cell_type": "markdown",
   "metadata": {},
   "source": [
    "This is the heatmap (probably more of a bounding box)\n",
    "\n",
    "Other thoughts - we'll want to count the number of occurrences.  If the photo given doesn't have enough matches, then we want to return an error"
   ]
  },
  {
   "cell_type": "code",
   "execution_count": 51,
   "metadata": {},
   "outputs": [],
   "source": [
    "test_fname = PATH + \"photo2.jpg\"\n",
    "#test_fname = PATH + \"photo.jpg\"\n",
    "output_fname = \"output.jpg\""
   ]
  },
  {
   "cell_type": "code",
   "execution_count": 52,
   "metadata": {},
   "outputs": [],
   "source": [
    "def custom_process(test_fname, output_fname):\n",
    "    '''\n",
    "    Masks and attempts to find the scale reading\n",
    "    '''\n",
    "    \n",
    "    #Image.open(PATH + test_fname).resize((500, 500))\n",
    "    im = open_image(test_fname)\n",
    "    import imageio\n",
    "    frame = imageio.imread(test_fname)\n",
    "    hsv = cv2.cvtColor(frame, cv2.COLOR_BGR2HSV)\n",
    "    lower_red = np.array([10,0,0])\n",
    "    upper_red = np.array([38,255,255])\n",
    "    mask = cv2.inRange(hsv, lower_red, upper_red)\n",
    "    res = cv2.bitwise_and(frame,frame, mask= mask)\n",
    "    plt.imshow(res)\n",
    "    #plt.imsave(output_fname,res)\n",
    "    return res"
   ]
  },
  {
   "cell_type": "code",
   "execution_count": 53,
   "metadata": {
    "scrolled": true
   },
   "outputs": [
    {
     "data": {
      "image/png": "[encoded data removed]",
      "text/plain": [
       "<Figure size 432x288 with 1 Axes>"
      ]
     },
     "metadata": {
      "needs_background": "light"
     },
     "output_type": "display_data"
    }
   ],
   "source": [
    "img = custom_process(test_fname, output_fname)"
   ]
  },
  {
   "cell_type": "code",
   "execution_count": 54,
   "metadata": {},
   "outputs": [],
   "source": [
    "plt.imsave(output_fname,img)"
   ]
  },
  {
   "cell_type": "markdown",
   "metadata": {},
   "source": [
    "## Crop to make life easier\n",
    "We want to try autocropping this."
   ]
  },
  {
   "cell_type": "code",
   "execution_count": 55,
   "metadata": {},
   "outputs": [],
   "source": [
    "input_fname = \"output.jpg\"\n",
    "output_fname = \"output.jpg\""
   ]
  },
  {
   "cell_type": "code",
   "execution_count": 56,
   "metadata": {},
   "outputs": [],
   "source": [
    "def crop_image(img,tol=10):\n",
    "        # img is image data\n",
    "        # tol  is tolerance\n",
    "        mask = img>tol\n",
    "        return img[np.ix_(mask.any(1),mask.any(0))]"
   ]
  },
  {
   "cell_type": "code",
   "execution_count": 57,
   "metadata": {},
   "outputs": [],
   "source": [
    "def custom_process_stage_two(input_fname, output_fname):\n",
    "    '''\n",
    "    Handles autocrop of the image and final save\n",
    "    '''\n",
    "    padding = 75\n",
    "    \n",
    "    \n",
    "    image = cv2.imread(input_fname)\n",
    "\n",
    "    gray = cv2.cvtColor(image, cv2.COLOR_BGR2GRAY)\n",
    "    #blurred = cv2.GaussianBlur(gray, (5, 5), 0)\n",
    "    #edged = cv2.Canny(blurred, 50, 200, 255)\n",
    "    #cnts = cv2.findContours(edged.copy(), cv2.RETR_EXTERNAL,\n",
    "    #    cv2.CHAIN_APPROX_SIMPLE)\n",
    "\n",
    "    #plt.imshow(edged)\n",
    "\n",
    "    img = cv2.imread(input_fname)\n",
    "    \n",
    "    #plt.imshow(img)\n",
    "\n",
    "    #mask = blurred > 0\n",
    "\n",
    "    # Coordinates of non-black pixels.\n",
    "    #coords = np.argwhere(mask)\n",
    "\n",
    "    # Bounding box of non-black pixels.\n",
    "    #x0, y0 = coords.min(axis=0)\n",
    "    #x1, y1 = coords.max(axis=0) + 1  \n",
    "\n",
    "    #x0,x1,y0,y1\n",
    "\n",
    "    \n",
    "    #x_mean = (x0+x1)/2\n",
    "    #y_mean = (y0+y1)/2\n",
    "\n",
    "  \n",
    "    y_mean,x_mean = cv2.findNonZero(gray).mean(axis=0)[0]\n",
    "    x_min = int(x_mean - (sz/2)) - padding\n",
    "    x_max = x_min + sz + (2*padding)\n",
    "\n",
    "    y_min = int(y_mean - (sz/2)) - padding\n",
    "    y_max = y_min + sz + (2*padding)\n",
    "\n",
    "    print((x_min,x_max),(y_min,y_max))\n",
    "\n",
    "    #img2 = (blurred[x_min:x_max,y_min:y_max])\n",
    "    img2 = (gray[x_min:x_max,y_min:y_max])\n",
    "    #img2.shape\n",
    "\n",
    "    # Manual code - want to get away from this\n",
    "    #img2 = edged[600:824,400:624]\n",
    "\n",
    "    #plt.imshow(img2)\n",
    "    #img2 = img\n",
    "\n",
    "    #brightness = 40\n",
    "    #contrast = 127\n",
    "    #img2 = np.int16(img2)\n",
    "    #img2 = img2 * (contrast/127+1) - contrast + brightness\n",
    "    #img2 = np.clip(img2, 0, 255)\n",
    "    #img2 = np.uint8(img2)\n",
    "\n",
    "\n",
    "\n",
    "    #plt.imshow(img2)\n",
    "\n",
    "    #plt.imsave(output_fname, img2)\n",
    "    return img2\n"
   ]
  },
  {
   "cell_type": "code",
   "execution_count": 58,
   "metadata": {},
   "outputs": [
    {
     "name": "stdout",
     "output_type": "stream",
     "text": [
      "(1691, 2065) (1435, 1809)\n"
     ]
    }
   ],
   "source": [
    "img2 = custom_process_stage_two(input_fname, output_fname)"
   ]
  },
  {
   "cell_type": "code",
   "execution_count": 59,
   "metadata": {
    "scrolled": true
   },
   "outputs": [
    {
     "data": {
      "text/plain": [
       "<matplotlib.image.AxesImage at 0x27b051b3550>"
      ]
     },
     "execution_count": 59,
     "metadata": {},
     "output_type": "execute_result"
    },
    {
     "data": {
      "image/png": "[encoded data removed]",
      "text/plain": [
       "<Figure size 432x288 with 1 Axes>"
      ]
     },
     "metadata": {
      "needs_background": "light"
     },
     "output_type": "display_data"
    }
   ],
   "source": [
    "plt.imshow(img2)"
   ]
  },
  {
   "cell_type": "code",
   "execution_count": 60,
   "metadata": {},
   "outputs": [],
   "source": [
    "plt.imsave(output_fname, img2)"
   ]
  },
  {
   "cell_type": "markdown",
   "metadata": {},
   "source": [
    "### Time to find our prediction!"
   ]
  },
  {
   "cell_type": "code",
   "execution_count": 61,
   "metadata": {
    "scrolled": false
   },
   "outputs": [
    {
     "data": {
      "text/plain": [
       "[<fastai.transforms.Scale object at 0x0000027B7BFEB940>, <fastai.transforms.NoCrop object at 0x0000027B7BFEB908>, <fastai.transforms.Normalize object at 0x0000027B7BFEB860>, <fastai.transforms.ChannelOrder object at 0x0000027B7BFEBBE0>]"
      ]
     },
     "execution_count": 61,
     "metadata": {},
     "output_type": "execute_result"
    }
   ],
   "source": [
    "val_tfms=tfms[1]; val_tfms"
   ]
  },
  {
   "cell_type": "code",
   "execution_count": 62,
   "metadata": {},
   "outputs": [],
   "source": [
    "test_path = \"/src/data/digits/regression/1321_30.jpg\"\n",
    "test_path = \"output.jpg\"\n",
    "im = open_image(test_path) # open_image() returns numpy.ndarray\n",
    "#im = cv2.flip(im, 1)\n",
    "#im = cv2.rotate(im, cv2.ROTATE_90_COUNTERCLOCKWISE)\n",
    "#im = cv2.normalize(im, None, alpha=0, beta=1, norm_type=cv2.NORM_MINMAX, dtype=cv2.CV_32F)\n",
    "im = val_tfms(im)\n",
    "#im = im.T\n"
   ]
  },
  {
   "cell_type": "code",
   "execution_count": 63,
   "metadata": {},
   "outputs": [
    {
     "data": {
      "text/plain": [
       "array([[ 1.62582,  1.41848, -0.40032,  0.74501]], dtype=float32)"
      ]
     },
     "execution_count": 63,
     "metadata": {},
     "output_type": "execute_result"
    }
   ],
   "source": [
    "\n",
    "preds = learn.predict_array(im[None]);preds"
   ]
  },
  {
   "cell_type": "code",
   "execution_count": null,
   "metadata": {},
   "outputs": [],
   "source": []
  },
  {
   "cell_type": "code",
   "execution_count": 64,
   "metadata": {},
   "outputs": [
    {
     "data": {
      "text/plain": [
       "(224, 224, 3)"
      ]
     },
     "execution_count": 64,
     "metadata": {},
     "output_type": "execute_result"
    }
   ],
   "source": [
    "im.T.shape"
   ]
  },
  {
   "cell_type": "code",
   "execution_count": 65,
   "metadata": {
    "scrolled": true
   },
   "outputs": [
    {
     "name": "stderr",
     "output_type": "stream",
     "text": [
      "Clipping input data to the valid range for imshow with RGB data ([0..1] for floats or [0..255] for integers).\n"
     ]
    },
    {
     "data": {
      "text/plain": [
       "<matplotlib.image.AxesImage at 0x27b067ee320>"
      ]
     },
     "execution_count": 65,
     "metadata": {},
     "output_type": "execute_result"
    },
    {
     "data": {
      "image/png": "[encoded data removed]",
      "text/plain": [
       "<Figure size 432x288 with 1 Axes>"
      ]
     },
     "metadata": {
      "needs_background": "light"
     },
     "output_type": "display_data"
    }
   ],
   "source": [
    "plt.imshow(im.T)"
   ]
  },
  {
   "cell_type": "code",
   "execution_count": 66,
   "metadata": {
    "scrolled": true
   },
   "outputs": [
    {
     "data": {
      "text/plain": [
       "[2, 1, 0, 1]"
      ]
     },
     "execution_count": 66,
     "metadata": {},
     "output_type": "execute_result"
    }
   ],
   "source": [
    "temp_preds = [round(float(preds[0][i])) for i in range(3,-1,-1)]\n",
    "temp_preds.reverse()\n",
    "temp_preds"
   ]
  },
  {
   "cell_type": "markdown",
   "metadata": {},
   "source": [
    "## Step 4 : Building a small dataset to train on "
   ]
  },
  {
   "cell_type": "markdown",
   "metadata": {},
   "source": [
    "What I think we've ended up doing is creating a nice opportunity for transfer learning.\n",
    "\n",
    "I think from here, I need to have 20-100 labelled photos from the actual scale and only train (unfreeze) the last couple of layers.  Maybe just the last 1?\n",
    "\n",
    "I think I'm going to take a video and pull frames from there.  Need to also create pipeline functions for processing the photos down"
   ]
  },
  {
   "cell_type": "markdown",
   "metadata": {},
   "source": [
    "### Code used to decode the video\n",
    "```\n",
    "ffmpeg -i *.mp4  output_%04d.jpg\n",
    "```"
   ]
  },
  {
   "cell_type": "markdown",
   "metadata": {},
   "source": [
    "Here's an interesting thought - I think the model will tend to predict 1s or 2s since it's seen the most of those.  I probably need to build the set going from 0000 - 9999 to have all digits equally trained.  I'll try this if I get in trouble on the real dataset + transfer learning."
   ]
  },
  {
   "cell_type": "markdown",
   "metadata": {},
   "source": [
    "### Need to convert the small live dataset"
   ]
  },
  {
   "cell_type": "markdown",
   "metadata": {},
   "source": [
    "We need to autocrop and process.\n",
    "\n",
    "- Need to run the process and process 2 step on all of the files, overwrite\n",
    "- custom_process and custom_process_stage_two"
   ]
  },
  {
   "cell_type": "code",
   "execution_count": null,
   "metadata": {},
   "outputs": [],
   "source": [
    "rotated_path = \"/src/data/digits/rotated/\""
   ]
  },
  {
   "cell_type": "code",
   "execution_count": null,
   "metadata": {},
   "outputs": [],
   "source": [
    "# ONLY RUN THIS CODE ONCE\n",
    "for fname_temp in os.listdir(rotated_path):\n",
    "    if \".jpg\" in fname_temp:\n",
    "        fname = rotated_path + fname_temp.split(\"/\")[-1]\n",
    "        print(fname)\n",
    "        img = custom_process(fname, fname)\n",
    "        plt.imsave(fname, img)\n",
    "        img2 = custom_process_stage_two(fname, fname)\n",
    "        plt.imsave(fname, img2)"
   ]
  },
  {
   "cell_type": "markdown",
   "metadata": {},
   "source": [
    "## Step 5 : Weights transfer and Training on the small dataset"
   ]
  },
  {
   "cell_type": "markdown",
   "metadata": {},
   "source": [
    "We want to create a new learner with the same architecture, etc and then transfer over the weights using ```state_dict()``` and ```load_stat_dict``` from ```learn.model```"
   ]
  },
  {
   "cell_type": "code",
   "execution_count": 67,
   "metadata": {},
   "outputs": [],
   "source": [
    "temp_model = learn.model"
   ]
  },
  {
   "cell_type": "markdown",
   "metadata": {},
   "source": [
    "### Time to recreate the model"
   ]
  },
  {
   "cell_type": "code",
   "execution_count": 70,
   "metadata": {},
   "outputs": [],
   "source": [
    "csv_fname = \"/rotated/labels_rotated_x10.csv\""
   ]
  },
  {
   "cell_type": "code",
   "execution_count": 71,
   "metadata": {
    "scrolled": true
   },
   "outputs": [
    {
     "data": {
      "text/plain": [
       "336"
      ]
     },
     "execution_count": 71,
     "metadata": {},
     "output_type": "execute_result"
    }
   ],
   "source": [
    "f_model=resnet18\n",
    "sz=224  \n",
    "bs=3 # Changed from 64 - will try\n",
    "#n = 1500 * generated_count # Number of entries we have now\n",
    "n = len(pd.read_csv(PATH + csv_fname))\n",
    "n"
   ]
  },
  {
   "cell_type": "code",
   "execution_count": 72,
   "metadata": {},
   "outputs": [
    {
     "data": {
      "text/plain": [
       "'/src/data/digits/'"
      ]
     },
     "execution_count": 72,
     "metadata": {},
     "output_type": "execute_result"
    }
   ],
   "source": [
    "PATH"
   ]
  },
  {
   "cell_type": "markdown",
   "metadata": {},
   "source": [
    "This csv contains the 30-40 odd examples that have been duplicated 10 times (in the csv only)"
   ]
  },
  {
   "cell_type": "code",
   "execution_count": 73,
   "metadata": {},
   "outputs": [],
   "source": [
    "aug_tfms = [\n",
    "        AddPadding(pad=30, mode=cv2.BORDER_REPLICATE),\n",
    "        RandomRotateZoom(deg=60, zoom=1.2, stretch=1.1),\n",
    "        RandomLighting(0.05,0.05)]"
   ]
  },
  {
   "cell_type": "code",
   "execution_count": 74,
   "metadata": {},
   "outputs": [],
   "source": [
    "tfms = tfms_from_model(f_model, \n",
    "                       sz,\n",
    "                       aug_tfms = aug_tfms,\n",
    "                       crop_type=CropType.NO,\n",
    "                       max_zoom = 1.1,\n",
    "                       tfm_y=TfmType.NO)\n"
   ]
  },
  {
   "cell_type": "code",
   "execution_count": 75,
   "metadata": {
    "scrolled": false
   },
   "outputs": [
    {
     "data": {
      "text/html": [
       "<div>\n",
       "<style scoped>\n",
       "    .dataframe tbody tr th:only-of-type {\n",
       "        vertical-align: middle;\n",
       "    }\n",
       "\n",
       "    .dataframe tbody tr th {\n",
       "        vertical-align: top;\n",
       "    }\n",
       "\n",
       "    .dataframe thead th {\n",
       "        text-align: right;\n",
       "    }\n",
       "</style>\n",
       "<table border=\"1\" class=\"dataframe\">\n",
       "  <thead>\n",
       "    <tr style=\"text-align: right;\">\n",
       "      <th></th>\n",
       "      <th>fn</th>\n",
       "      <th>val</th>\n",
       "    </tr>\n",
       "  </thead>\n",
       "  <tbody>\n",
       "    <tr>\n",
       "      <th>0</th>\n",
       "      <td>/src/data/digits/rotated/1022.jpg</td>\n",
       "      <td>1 0 2 2</td>\n",
       "    </tr>\n",
       "    <tr>\n",
       "      <th>1</th>\n",
       "      <td>/src/data/digits/rotated/1066.jpg</td>\n",
       "      <td>1 0 6 6</td>\n",
       "    </tr>\n",
       "    <tr>\n",
       "      <th>2</th>\n",
       "      <td>/src/data/digits/rotated/1078.jpg</td>\n",
       "      <td>1 0 7 8</td>\n",
       "    </tr>\n",
       "    <tr>\n",
       "      <th>3</th>\n",
       "      <td>/src/data/digits/rotated/1106.jpg</td>\n",
       "      <td>1 1 0 6</td>\n",
       "    </tr>\n",
       "    <tr>\n",
       "      <th>4</th>\n",
       "      <td>/src/data/digits/rotated/1108.jpg</td>\n",
       "      <td>1 1 0 8</td>\n",
       "    </tr>\n",
       "  </tbody>\n",
       "</table>\n",
       "</div>"
      ],
      "text/plain": [
       "                                  fn      val\n",
       "0  /src/data/digits/rotated/1022.jpg  1 0 2 2\n",
       "1  /src/data/digits/rotated/1066.jpg  1 0 6 6\n",
       "2  /src/data/digits/rotated/1078.jpg  1 0 7 8\n",
       "3  /src/data/digits/rotated/1106.jpg  1 1 0 6\n",
       "4  /src/data/digits/rotated/1108.jpg  1 1 0 8"
      ]
     },
     "execution_count": 75,
     "metadata": {},
     "output_type": "execute_result"
    }
   ],
   "source": [
    "pd.read_csv(PATH + csv_fname).head()"
   ]
  },
  {
   "cell_type": "code",
   "execution_count": 76,
   "metadata": {},
   "outputs": [],
   "source": [
    "val_idx = get_cv_idxs(n, val_pct=0.3)"
   ]
  },
  {
   "cell_type": "code",
   "execution_count": 77,
   "metadata": {},
   "outputs": [],
   "source": [
    "md = ImageClassifierData.from_csv(PATH, \n",
    "                                  \"rotated\", \n",
    "                                  PATH + csv_fname, \n",
    "                                  tfms=tfms, \n",
    "                                  val_idxs=val_idx,\n",
    "                                  continuous=True, \n",
    "                                  skip_header = True,\n",
    "                                  bs=bs)\n",
    "\n",
    "# We really ought to consider doing a test folder"
   ]
  },
  {
   "cell_type": "code",
   "execution_count": 78,
   "metadata": {},
   "outputs": [],
   "source": [
    "head_reg4 = nn.Sequential(Flatten(), nn.Linear(25088,4))  # What is this 25088 thing here? 112 * 224\n",
    "learn = ConvLearner.pretrained(f_model, md, custom_head=head_reg4)\n",
    "learn.opt_fn = optim.Adam # Is Adam the proper optimizer here?\n",
    "#learn.crit = nn.L1Loss() # TODO - Not convinced L1 Loss is the best here - maybe L2 or MSE?\n",
    "learn.crit = MSELossFlat() # Changing over to MSE, then MSELossFlat which flattens (better for what I want)"
   ]
  },
  {
   "cell_type": "markdown",
   "metadata": {},
   "source": [
    "### Time for the transfer"
   ]
  },
  {
   "cell_type": "markdown",
   "metadata": {},
   "source": [
    "Make sure we have different models"
   ]
  },
  {
   "cell_type": "code",
   "execution_count": 79,
   "metadata": {},
   "outputs": [
    {
     "data": {
      "text/plain": [
       "tensor(-0.0055, device='cuda:0')"
      ]
     },
     "execution_count": 79,
     "metadata": {},
     "output_type": "execute_result"
    }
   ],
   "source": [
    "temp_model.state_dict()['8.1.weight'][0][0]"
   ]
  },
  {
   "cell_type": "code",
   "execution_count": 80,
   "metadata": {},
   "outputs": [
    {
     "data": {
      "text/plain": [
       "tensor(-0.0047, device='cuda:0')"
      ]
     },
     "execution_count": 80,
     "metadata": {},
     "output_type": "execute_result"
    }
   ],
   "source": [
    "learn.model.state_dict()['8.1.weight'][0][0]"
   ]
  },
  {
   "cell_type": "markdown",
   "metadata": {},
   "source": [
    "Then for the transfer"
   ]
  },
  {
   "cell_type": "code",
   "execution_count": 81,
   "metadata": {},
   "outputs": [],
   "source": [
    "learn.model.load_state_dict(temp_model.state_dict())"
   ]
  },
  {
   "cell_type": "code",
   "execution_count": 82,
   "metadata": {},
   "outputs": [
    {
     "data": {
      "text/plain": [
       "tensor(-0.0055, device='cuda:0')"
      ]
     },
     "execution_count": 82,
     "metadata": {},
     "output_type": "execute_result"
    }
   ],
   "source": [
    "learn.model.state_dict()['8.1.weight'][0][0]"
   ]
  },
  {
   "cell_type": "markdown",
   "metadata": {},
   "source": [
    "#### Make sure to freeze!"
   ]
  },
  {
   "cell_type": "code",
   "execution_count": 83,
   "metadata": {},
   "outputs": [],
   "source": [
    "learn.freeze_to(-2)\n",
    "#learn.freeze()"
   ]
  },
  {
   "cell_type": "markdown",
   "metadata": {},
   "source": [
    "### Now time to fit as normal"
   ]
  },
  {
   "cell_type": "code",
   "execution_count": 84,
   "metadata": {
    "scrolled": true
   },
   "outputs": [
    {
     "data": {
      "application/vnd.jupyter.widget-view+json": {
       "model_id": "a7d48b0fd96346d78c59a0b1cb026f22",
       "version_major": 2,
       "version_minor": 0
      },
      "text/plain": [
       "HBox(children=(IntProgress(value=0, description='Epoch', max=1), HTML(value='')))"
      ]
     },
     "metadata": {},
     "output_type": "display_data"
    },
    {
     "name": "stdout",
     "output_type": "stream",
     "text": [
      "                                                          \r"
     ]
    },
    {
     "data": {
      "image/png": "[encoded data removed]",
      "text/plain": [
       "<Figure size 432x288 with 1 Axes>"
      ]
     },
     "metadata": {
      "needs_background": "light"
     },
     "output_type": "display_data"
    }
   ],
   "source": [
    "learn.lr_find()\n",
    "learn.sched.plot(5)"
   ]
  },
  {
   "cell_type": "markdown",
   "metadata": {},
   "source": [
    "This seems a good value given the graph above (right in the middle before it starts increasing wildly)."
   ]
  },
  {
   "cell_type": "code",
   "execution_count": 85,
   "metadata": {},
   "outputs": [],
   "source": [
    "lr = 3e-4"
   ]
  },
  {
   "cell_type": "code",
   "execution_count": 86,
   "metadata": {},
   "outputs": [
    {
     "data": {
      "text/plain": [
       "0.0003"
      ]
     },
     "execution_count": 86,
     "metadata": {},
     "output_type": "execute_result"
    }
   ],
   "source": [
    "lr"
   ]
  },
  {
   "cell_type": "code",
   "execution_count": 87,
   "metadata": {
    "scrolled": true
   },
   "outputs": [
    {
     "data": {
      "application/vnd.jupyter.widget-view+json": {
       "model_id": "32c23a9496ed400db4b42702be3f18da",
       "version_major": 2,
       "version_minor": 0
      },
      "text/plain": [
       "HBox(children=(IntProgress(value=0, description='Epoch', max=20), HTML(value='')))"
      ]
     },
     "metadata": {},
     "output_type": "display_data"
    },
    {
     "name": "stdout",
     "output_type": "stream",
     "text": [
      "epoch      trn_loss   val_loss                            \n",
      "    0      3.665035   1.125584  \n",
      "    1      1.441482   0.416248                            \n",
      "    2      0.714701   0.42232                              \n",
      "    3      0.566896   0.150175                             \n",
      "    4      0.336936   0.146496                             \n",
      "    5      1.493303   2.385499                             \n",
      "    6      2.444785   1.943686                            \n",
      "    7      1.26793    1.549484                            \n",
      "    8      0.792268   1.505548                             \n",
      "    9      0.880228   1.232999                             \n",
      "    10     0.556619   0.720466                             \n",
      "    11     0.300557   0.393681                             \n",
      "    12     0.199768   0.311187                             \n",
      "    13     0.122804   0.458304                             \n",
      "    14     0.129854   0.524106                             \n",
      "    15     0.093399   0.295495                              \n",
      "    16     0.082345   0.165868                              \n",
      "    17     0.075615   0.597967                              \n",
      "    18     0.089618   0.101696                              \n",
      "    19     0.056089   0.135177                              \n"
     ]
    },
    {
     "data": {
      "text/plain": [
       "[0.13517730682855472]"
      ]
     },
     "execution_count": 87,
     "metadata": {},
     "output_type": "execute_result"
    }
   ],
   "source": [
    "learn.fit(lr, 2, cycle_len=5, cycle_mult=3)"
   ]
  },
  {
   "cell_type": "code",
   "execution_count": 88,
   "metadata": {},
   "outputs": [],
   "source": [
    "learn.save(\"transferred-\" + VERSION)"
   ]
  },
  {
   "cell_type": "code",
   "execution_count": 89,
   "metadata": {},
   "outputs": [],
   "source": [
    "learn.load(\"transferred-\" + VERSION)"
   ]
  },
  {
   "cell_type": "markdown",
   "metadata": {},
   "source": [
    "This went better when we added aug_tfms and brought in some more data.  What we ended up doing was just repeating our data substantially and hoped that aug_tfms would modify it enough to do some actual learning on - which it did."
   ]
  },
  {
   "cell_type": "markdown",
   "metadata": {},
   "source": [
    "One of the interesting things was it would tend to predict weights in 100s better than the 200s - since it had seen more of the 100s."
   ]
  },
  {
   "cell_type": "markdown",
   "metadata": {},
   "source": [
    "### Spot check to make sure all is well"
   ]
  },
  {
   "cell_type": "code",
   "execution_count": 90,
   "metadata": {},
   "outputs": [],
   "source": [
    "x,y = md.val_dl.get_batch([11,12,13,14])"
   ]
  },
  {
   "cell_type": "code",
   "execution_count": 91,
   "metadata": {},
   "outputs": [],
   "source": [
    "#x,y = next(iter(md.val_dl))\n",
    "learn.model.eval()\n",
    "preds = to_np(learn.model(VV(x)))"
   ]
  },
  {
   "cell_type": "code",
   "execution_count": 92,
   "metadata": {},
   "outputs": [],
   "source": [
    "pred = random.randint(1,bs)"
   ]
  },
  {
   "cell_type": "code",
   "execution_count": 93,
   "metadata": {},
   "outputs": [
    {
     "data": {
      "text/plain": [
       "<matplotlib.image.AxesImage at 0x27b061a8048>"
      ]
     },
     "execution_count": 93,
     "metadata": {},
     "output_type": "execute_result"
    },
    {
     "data": {
      "image/png": "[encoded data removed]",
      "text/plain": [
       "<Figure size 432x288 with 1 Axes>"
      ]
     },
     "metadata": {
      "needs_background": "light"
     },
     "output_type": "display_data"
    }
   ],
   "source": [
    "plt.imshow(md.val_ds.denorm(to_np(x))[pred])"
   ]
  },
  {
   "cell_type": "code",
   "execution_count": 94,
   "metadata": {},
   "outputs": [
    {
     "data": {
      "text/plain": [
       "array([ 0.88139, -0.18406,  7.12622,  8.41085], dtype=float32)"
      ]
     },
     "execution_count": 94,
     "metadata": {},
     "output_type": "execute_result"
    }
   ],
   "source": [
    "preds[pred]"
   ]
  },
  {
   "cell_type": "code",
   "execution_count": 95,
   "metadata": {
    "scrolled": false
   },
   "outputs": [
    {
     "data": {
      "text/plain": [
       "[1, 0, 7, 8]"
      ]
     },
     "execution_count": 95,
     "metadata": {},
     "output_type": "execute_result"
    }
   ],
   "source": [
    "[round(float(preds[pred][i])) for i in range(0,4)]"
   ]
  },
  {
   "cell_type": "markdown",
   "metadata": {},
   "source": [
    "So our model seems to be predicting that reasonably well (after rounding).  On to some real data!"
   ]
  },
  {
   "cell_type": "code",
   "execution_count": 108,
   "metadata": {},
   "outputs": [],
   "source": [
    "test_path = \"/src/data/digits/regression/1321_30.jpg\"\n",
    "test_path = \"output.jpg\"\n",
    "im = open_image(test_path) # open_image() returns numpy.ndarray\n",
    "#im = cv2.flip(im, 1)\n",
    "#im = cv2.rotate(im, cv2.ROTATE_90_COUNTERCLOCKWISE)\n",
    "#im = cv2.normalize(im, None, alpha=0, beta=1, norm_type=cv2.NORM_MINMAX, dtype=cv2.CV_32F)\n",
    "im = val_tfms(im)\n",
    "#im = im.T\n"
   ]
  },
  {
   "cell_type": "code",
   "execution_count": 102,
   "metadata": {},
   "outputs": [
    {
     "data": {
      "text/plain": [
       "array([[1.05663, 0.60754, 7.9119 , 7.61505]], dtype=float32)"
      ]
     },
     "execution_count": 102,
     "metadata": {},
     "output_type": "execute_result"
    }
   ],
   "source": [
    "\n",
    "preds = learn.predict_array(im[None]);preds"
   ]
  },
  {
   "cell_type": "code",
   "execution_count": 103,
   "metadata": {},
   "outputs": [
    {
     "data": {
      "text/plain": [
       "(224, 224, 3)"
      ]
     },
     "execution_count": 103,
     "metadata": {},
     "output_type": "execute_result"
    }
   ],
   "source": [
    "im.T.shape"
   ]
  },
  {
   "cell_type": "code",
   "execution_count": 104,
   "metadata": {
    "scrolled": true
   },
   "outputs": [
    {
     "name": "stderr",
     "output_type": "stream",
     "text": [
      "Clipping input data to the valid range for imshow with RGB data ([0..1] for floats or [0..255] for integers).\n"
     ]
    },
    {
     "data": {
      "text/plain": [
       "<matplotlib.image.AxesImage at 0x27b0624f240>"
      ]
     },
     "execution_count": 104,
     "metadata": {},
     "output_type": "execute_result"
    },
    {
     "data": {
      "image/png": "[encoded data removed]",
      "text/plain": [
       "<Figure size 432x288 with 1 Axes>"
      ]
     },
     "metadata": {
      "needs_background": "light"
     },
     "output_type": "display_data"
    }
   ],
   "source": [
    "plt.imshow(im.T)"
   ]
  },
  {
   "cell_type": "code",
   "execution_count": 111,
   "metadata": {
    "scrolled": true
   },
   "outputs": [
    {
     "data": {
      "text/plain": [
       "[1, 1, 8, 8]"
      ]
     },
     "execution_count": 111,
     "metadata": {},
     "output_type": "execute_result"
    }
   ],
   "source": [
    "temp_preds = [round(float(preds[0][i])) for i in range(3,-1,-1)]\n",
    "temp_preds.reverse()\n",
    "temp_preds"
   ]
  },
  {
   "cell_type": "markdown",
   "metadata": {},
   "source": [
    "It's interesting - what I think has happened here is that the scale data that's been taught has so few examples of > 200, that the model assumes that the first digit will be 1 (despite it very obviously being a 2)."
   ]
  },
  {
   "cell_type": "markdown",
   "metadata": {},
   "source": [
    "## Final Step : Deployment to Pipeline"
   ]
  },
  {
   "cell_type": "markdown",
   "metadata": {},
   "source": [
    "#### Final Steps\n",
    "-----------------\n",
    "- We want to have online learning so the model can keep getting better."
   ]
  },
  {
   "cell_type": "code",
   "execution_count": null,
   "metadata": {},
   "outputs": [],
   "source": []
  }
 ],
 "metadata": {
  "kernelspec": {
   "display_name": "Python 3",
   "language": "python",
   "name": "python3"
  },
  "language_info": {
   "codemirror_mode": {
    "name": "ipython",
    "version": 3
   },
   "file_extension": ".py",
   "mimetype": "text/x-python",
   "name": "python",
   "nbconvert_exporter": "python",
   "pygments_lexer": "ipython3",
   "version": "3.6.6"
  }
 },
 "nbformat": 4,
 "nbformat_minor": 2
}
